{
 "cells": [
  {
   "cell_type": "code",
   "execution_count": 1,
   "metadata": {
    "collapsed": true
   },
   "outputs": [],
   "source": [
    "import mxnet"
   ]
  },
  {
   "cell_type": "markdown",
   "metadata": {
    "collapsed": true
   },
   "source": [
    "# Handwritten Digit Recognition\n",
    "\n",
    "This tutorial guides you through a classic computer vision application: identify hand written digits with neural networks. \n",
    "\n",
    "## Load data\n",
    "\n",
    "We first fetch the [MNIST](http://yann.lecun.com/exdb/mnist/) dataset, which is a commonly used dataset for handwritten digit recognition. Each image in this dataset has been resized into 28x28 with grayscale value between 0 and 254. The following codes download and load the images and the according labels into `numpy`."
   ]
  },
  {
   "cell_type": "code",
   "execution_count": 2,
   "metadata": {
    "collapsed": false
   },
   "outputs": [],
   "source": [
    "import numpy as np\n",
    "import os\n",
    "import urllib\n",
    "import gzip\n",
    "import struct\n",
    "def download_data(url, force_download=True): \n",
    "    fname = url.split(\"/\")[-1]\n",
    "    if force_download or not os.path.exists(fname):\n",
    "        urllib.urlretrieve(url, fname)\n",
    "    return fname\n",
    "\n",
    "def read_data(label_url, image_url):\n",
    "    with gzip.open(download_data(label_url)) as flbl:\n",
    "        magic, num = struct.unpack(\">II\", flbl.read(8))\n",
    "        label = np.fromstring(flbl.read(), dtype=np.int8)\n",
    "    with gzip.open(download_data(image_url), 'rb') as fimg:\n",
    "        magic, num, rows, cols = struct.unpack(\">IIII\", fimg.read(16))\n",
    "        image = np.fromstring(fimg.read(), dtype=np.uint8).reshape(len(label), rows, cols)\n",
    "    return (label, image)\n",
    "\n",
    "path='http://yann.lecun.com/exdb/mnist/'\n",
    "(train_lbl, train_img) = read_data(\n",
    "    path+'train-labels-idx1-ubyte.gz', path+'train-images-idx3-ubyte.gz')\n",
    "(val_lbl, val_img) = read_data(\n",
    "    path+'t10k-labels-idx1-ubyte.gz', path+'t10k-images-idx3-ubyte.gz')"
   ]
  },
  {
   "cell_type": "markdown",
   "metadata": {},
   "source": [
    "We plot the first 10 images and print their labels. "
   ]
  },
  {
   "cell_type": "code",
   "execution_count": 3,
   "metadata": {
    "collapsed": false,
    "scrolled": true
   },
   "outputs": [
    {
     "data": {
      "image/png": "[encoded data removed]",
      "text/plain": [
       "<matplotlib.figure.Figure at 0x7f6cea2000d0>"
      ]
     },
     "metadata": {},
     "output_type": "display_data"
    },
    {
     "name": "stdout",
     "output_type": "stream",
     "text": [
      "label: [5 0 4 1 9 2 1 3 1 4]\n"
     ]
    }
   ],
   "source": [
    "%matplotlib inline\n",
    "import matplotlib.pyplot as plt\n",
    "for i in range(10):\n",
    "    plt.subplot(1,10,i+1)\n",
    "    plt.imshow(train_img[i], cmap='Greys_r')\n",
    "    plt.axis('off')\n",
    "plt.show()\n",
    "print('label: %s' % (train_lbl[0:10],))"
   ]
  },
  {
   "cell_type": "markdown",
   "metadata": {},
   "source": [
    "Next we create data iterators for MXNet. The data iterator, which is similar the iterator, returns a batch of data in each `next()` call. A batch contains several images with its according labels. These images are stored in a 4-D matrix with shape `(batch_size, num_channels, width, height)`. For the MNIST dataset, there is only one color channel, and both width and height are 28. In addition, we often shuffle the images used for training, which accelerates the training progress."
   ]
  },
  {
   "cell_type": "code",
   "execution_count": 60,
   "metadata": {
    "collapsed": false
   },
   "outputs": [],
   "source": [
    "import mxnet as mx\n",
    "\n",
    "def to4d(img):\n",
    "    return img.reshape(img.shape[0], 1, 28, 28).astype(np.float32)/255\n",
    "\n",
    "batch_size = 60\n",
    "train_iter = mx.io.NDArrayIter(to4d(train_img), train_lbl, batch_size, shuffle=True)\n",
    "val_iter = mx.io.NDArrayIter(to4d(val_img), val_lbl, batch_size)"
   ]
  },
  {
   "cell_type": "markdown",
   "metadata": {},
   "source": [
    "## Multilayer Perceptron\n",
    "\n",
    "A multilayer perceptron contains several fully-connected layers. A fully-connected layer, with an *n x m* input matrix *X* outputs a matrix *Y* with size *n x k*, where *k* is often called as the hidden size. This layer has two parameters, the *m x k* weight matrix *W* and the *m x 1* bias vector *b*. It compute the outputs with\n",
    "\n",
    "$$Y = W X + b.$$\n",
    "\n",
    "The output of a fully-connected layer is often feed into an activation layer, which performs element-wise operations. Two common options are the sigmoid function, or the rectifier (or \"relu\") function, which outputs the max of 0 and the input.\n",
    "\n",
    "The last fully-connected layer often has the hidden size equals to the number of classes in the dataset. Then we stack a softmax layer, which map the input into a probability score. Again assume the input *X* has size *n x m*:\n",
    "\n",
    "$$ \\left[\\frac{\\exp(x_{i1})}{\\sum_{j=1}^m \\exp(x_{ij})},\\ldots, \\frac{\\exp(x_{im})}{\\sum_{j=1}^m \\exp(x_{ij})}\\right] $$\n",
    "\n",
    "Defining the multilayer perceptron in MXNet is straightforward, which has shown as following."
   ]
  },
  {
   "cell_type": "code",
   "execution_count": 76,
   "metadata": {
    "collapsed": false
   },
   "outputs": [
    {
     "data": {
      "text/plain": [
       "'mx.viz.plot_network(symbol=mlp, shape=shape)'"
      ]
     },
     "execution_count": 76,
     "metadata": {},
     "output_type": "execute_result"
    }
   ],
   "source": [
    "# Create a place holder variable for the input data\n",
    "data = mx.sym.Variable('data')\n",
    "# Flatten the data from 4-D shape (batch_size, num_channel, width, height) \n",
    "# into 2-D (batch_size, num_channel*width*height)\n",
    "data = mx.sym.Flatten(data=data)\n",
    "\n",
    "# The first fully-connected layer\n",
    "fc1  = mx.sym.FullyConnected(data=data, name='fc1', num_hidden=512)\n",
    "# Apply relu to the output of the first fully-connnected layer\n",
    "act1 = mx.sym.Activation(data=fc1, name='relu1', act_type=\"relu\")\n",
    "\n",
    "# The second fully-connected layer and the according activation function\n",
    "fc2  = mx.sym.FullyConnected(data=act1, name='fc2', num_hidden = 256)  \n",
    "act2 = mx.sym.Activation(data=fc2, name='relu2', act_type=\"relu\")\n",
    "\n",
    "# fc4  = mx.sym.FullyConnected(data=act2, name='fc4', num_hidden = 256)\n",
    "# act4 = mx.sym.Activation(data=fc4, name='relu4', act_type=\"relu\")\n",
    "\n",
    "# fc5  = mx.sym.FullyConnected(data=act4, name='fc4', num_hidden = 128)\n",
    "# act5 = mx.sym.Activation(data=fc5, name='relu5', act_type=\"tanh\")\n",
    "\n",
    "\n",
    "# The thrid fully-connected layer, note that the hidden size should be 10, which is the number of unique digits\n",
    "fc3  = mx.sym.FullyConnected(data=act2, name='fc3', num_hidden=10)\n",
    "# The softmax and loss layer\n",
    "mlp  = mx.sym.SoftmaxOutput(data=fc3, name='softmax')\n",
    "\n",
    "# We visualize the network structure with output size (the batch_size is ignored.)\n",
    "shape = {\"data\" : (batch_size, 1, 28, 28)}\n",
    "\"mx.viz.plot_network(symbol=mlp, shape=shape)\""
   ]
  },
  {
   "cell_type": "markdown",
   "metadata": {},
   "source": [
    "Now both the network definition and data iterators are ready. We can start training. "
   ]
  },
  {
   "cell_type": "code",
   "execution_count": 77,
   "metadata": {
    "collapsed": false
   },
   "outputs": [
    {
     "name": "stderr",
     "output_type": "stream",
     "text": [
      "WARNING:root:\u001b[91m[Deprecation Warning] mxnet.model.FeedForward has been deprecated. Please use mxnet.mod.Module instead.\u001b[0m\n",
      "INFO:root:Start training with [cpu(0)]\n",
      "INFO:root:Epoch[0] Batch [200]\tSpeed: 3968.36 samples/sec\tTrain-accuracy=0.395083\n",
      "INFO:root:Epoch[0] Batch [400]\tSpeed: 4096.30 samples/sec\tTrain-accuracy=0.867000\n",
      "INFO:root:Epoch[0] Batch [600]\tSpeed: 4093.89 samples/sec\tTrain-accuracy=0.920000\n",
      "INFO:root:Epoch[0] Batch [800]\tSpeed: 4136.58 samples/sec\tTrain-accuracy=0.944083\n",
      "INFO:root:Epoch[0] Batch [1000]\tSpeed: 4023.85 samples/sec\tTrain-accuracy=0.946917\n",
      "INFO:root:Epoch[0] Resetting Data Iterator\n",
      "INFO:root:Epoch[0] Time cost=14.790\n",
      "INFO:root:Epoch[0] Validation-accuracy=0.960479\n",
      "INFO:root:Epoch[1] Batch [200]\tSpeed: 4058.09 samples/sec\tTrain-accuracy=0.957250\n",
      "INFO:root:Epoch[1] Batch [400]\tSpeed: 4024.87 samples/sec\tTrain-accuracy=0.957917\n",
      "INFO:root:Epoch[1] Batch [600]\tSpeed: 4113.60 samples/sec\tTrain-accuracy=0.966667\n",
      "INFO:root:Epoch[1] Batch [800]\tSpeed: 3992.46 samples/sec\tTrain-accuracy=0.969750\n",
      "INFO:root:Epoch[1] Batch [1000]\tSpeed: 4056.72 samples/sec\tTrain-accuracy=0.969333\n",
      "INFO:root:Epoch[1] Resetting Data Iterator\n",
      "INFO:root:Epoch[1] Time cost=14.839\n",
      "INFO:root:Epoch[1] Validation-accuracy=0.971956\n",
      "INFO:root:Epoch[2] Batch [200]\tSpeed: 4005.70 samples/sec\tTrain-accuracy=0.976333\n",
      "INFO:root:Epoch[2] Batch [400]\tSpeed: 4073.52 samples/sec\tTrain-accuracy=0.974417\n",
      "INFO:root:Epoch[2] Batch [600]\tSpeed: 4064.06 samples/sec\tTrain-accuracy=0.980500\n",
      "INFO:root:Epoch[2] Batch [800]\tSpeed: 3950.38 samples/sec\tTrain-accuracy=0.979083\n",
      "INFO:root:Epoch[2] Batch [1000]\tSpeed: 4080.69 samples/sec\tTrain-accuracy=0.978667\n",
      "INFO:root:Epoch[2] Resetting Data Iterator\n",
      "INFO:root:Epoch[2] Time cost=14.893\n",
      "INFO:root:Epoch[2] Validation-accuracy=0.974052\n",
      "INFO:root:Epoch[3] Batch [200]\tSpeed: 4068.40 samples/sec\tTrain-accuracy=0.984167\n",
      "INFO:root:Epoch[3] Batch [400]\tSpeed: 4066.51 samples/sec\tTrain-accuracy=0.983583\n",
      "INFO:root:Epoch[3] Batch [600]\tSpeed: 4017.04 samples/sec\tTrain-accuracy=0.985917\n",
      "INFO:root:Epoch[3] Batch [800]\tSpeed: 4030.66 samples/sec\tTrain-accuracy=0.985833\n",
      "INFO:root:Epoch[3] Batch [1000]\tSpeed: 4014.58 samples/sec\tTrain-accuracy=0.986250\n",
      "INFO:root:Epoch[3] Resetting Data Iterator\n",
      "INFO:root:Epoch[3] Time cost=14.875\n",
      "INFO:root:Epoch[3] Validation-accuracy=0.973653\n",
      "INFO:root:Epoch[4] Batch [200]\tSpeed: 4080.41 samples/sec\tTrain-accuracy=0.988500\n",
      "INFO:root:Epoch[4] Batch [400]\tSpeed: 4061.74 samples/sec\tTrain-accuracy=0.988250\n",
      "INFO:root:Epoch[4] Batch [600]\tSpeed: 4102.05 samples/sec\tTrain-accuracy=0.991333\n",
      "INFO:root:Epoch[4] Batch [800]\tSpeed: 4061.44 samples/sec\tTrain-accuracy=0.990000\n",
      "INFO:root:Epoch[4] Batch [1000]\tSpeed: 4114.77 samples/sec\tTrain-accuracy=0.990333\n",
      "INFO:root:Epoch[4] Resetting Data Iterator\n",
      "INFO:root:Epoch[4] Time cost=14.713\n",
      "INFO:root:Epoch[4] Validation-accuracy=0.973852\n",
      "INFO:root:Epoch[5] Batch [200]\tSpeed: 4178.07 samples/sec\tTrain-accuracy=0.992667\n",
      "INFO:root:Epoch[5] Batch [400]\tSpeed: 4068.29 samples/sec\tTrain-accuracy=0.991500\n",
      "INFO:root:Epoch[5] Batch [600]\tSpeed: 4024.51 samples/sec\tTrain-accuracy=0.993333\n",
      "INFO:root:Epoch[5] Batch [800]\tSpeed: 4067.88 samples/sec\tTrain-accuracy=0.991667\n",
      "INFO:root:Epoch[5] Batch [1000]\tSpeed: 4096.04 samples/sec\tTrain-accuracy=0.993500\n",
      "INFO:root:Epoch[5] Resetting Data Iterator\n",
      "INFO:root:Epoch[5] Time cost=14.704\n",
      "INFO:root:Epoch[5] Validation-accuracy=0.974251\n",
      "INFO:root:Epoch[6] Batch [200]\tSpeed: 4059.38 samples/sec\tTrain-accuracy=0.994583\n",
      "INFO:root:Epoch[6] Batch [400]\tSpeed: 4082.33 samples/sec\tTrain-accuracy=0.994167\n",
      "INFO:root:Epoch[6] Batch [600]\tSpeed: 4014.55 samples/sec\tTrain-accuracy=0.995083\n",
      "INFO:root:Epoch[6] Batch [800]\tSpeed: 3917.73 samples/sec\tTrain-accuracy=0.993167\n",
      "INFO:root:Epoch[6] Batch [1000]\tSpeed: 4067.75 samples/sec\tTrain-accuracy=0.994083\n",
      "INFO:root:Epoch[6] Resetting Data Iterator\n",
      "INFO:root:Epoch[6] Time cost=14.921\n",
      "INFO:root:Epoch[6] Validation-accuracy=0.980639\n",
      "INFO:root:Epoch[7] Batch [200]\tSpeed: 4122.59 samples/sec\tTrain-accuracy=0.995083\n",
      "INFO:root:Epoch[7] Batch [400]\tSpeed: 4152.19 samples/sec\tTrain-accuracy=0.993583\n",
      "INFO:root:Epoch[7] Batch [600]\tSpeed: 4166.23 samples/sec\tTrain-accuracy=0.996000\n",
      "INFO:root:Epoch[7] Batch [800]\tSpeed: 4108.16 samples/sec\tTrain-accuracy=0.995917\n",
      "INFO:root:Epoch[7] Batch [1000]\tSpeed: 3571.05 samples/sec\tTrain-accuracy=0.994667\n",
      "INFO:root:Epoch[7] Resetting Data Iterator\n",
      "INFO:root:Epoch[7] Time cost=14.979\n",
      "INFO:root:Epoch[7] Validation-accuracy=0.978343\n",
      "INFO:root:Epoch[8] Batch [200]\tSpeed: 3827.05 samples/sec\tTrain-accuracy=0.996250\n",
      "INFO:root:Epoch[8] Batch [400]\tSpeed: 3661.11 samples/sec\tTrain-accuracy=0.995083\n",
      "INFO:root:Epoch[8] Batch [600]\tSpeed: 4023.73 samples/sec\tTrain-accuracy=0.996333\n",
      "INFO:root:Epoch[8] Batch [800]\tSpeed: 3976.06 samples/sec\tTrain-accuracy=0.994167\n",
      "INFO:root:Epoch[8] Batch [1000]\tSpeed: 3937.38 samples/sec\tTrain-accuracy=0.995167\n",
      "INFO:root:Epoch[8] Resetting Data Iterator\n",
      "INFO:root:Epoch[8] Time cost=15.475\n",
      "INFO:root:Epoch[8] Validation-accuracy=0.976647\n",
      "INFO:root:Epoch[9] Batch [200]\tSpeed: 3768.48 samples/sec\tTrain-accuracy=0.996833\n",
      "INFO:root:Epoch[9] Batch [400]\tSpeed: 3656.16 samples/sec\tTrain-accuracy=0.996167\n",
      "INFO:root:Epoch[9] Batch [600]\tSpeed: 4087.73 samples/sec\tTrain-accuracy=0.997667\n",
      "INFO:root:Epoch[9] Batch [800]\tSpeed: 3962.03 samples/sec\tTrain-accuracy=0.998167\n",
      "INFO:root:Epoch[9] Batch [1000]\tSpeed: 4092.48 samples/sec\tTrain-accuracy=0.998333\n",
      "INFO:root:Epoch[9] Resetting Data Iterator\n",
      "INFO:root:Epoch[9] Time cost=15.384\n",
      "INFO:root:Epoch[9] Validation-accuracy=0.979441\n",
      "INFO:root:Epoch[10] Batch [200]\tSpeed: 4079.10 samples/sec\tTrain-accuracy=0.998583\n",
      "INFO:root:Epoch[10] Batch [400]\tSpeed: 4023.20 samples/sec\tTrain-accuracy=0.998333\n",
      "INFO:root:Epoch[10] Batch [600]\tSpeed: 4069.53 samples/sec\tTrain-accuracy=0.997667\n",
      "INFO:root:Epoch[10] Batch [800]\tSpeed: 4004.88 samples/sec\tTrain-accuracy=0.998083\n",
      "INFO:root:Epoch[10] Batch [1000]\tSpeed: 4042.82 samples/sec\tTrain-accuracy=0.998667\n",
      "INFO:root:Epoch[10] Resetting Data Iterator\n",
      "INFO:root:Epoch[10] Time cost=14.862\n",
      "INFO:root:Epoch[10] Validation-accuracy=0.980339\n",
      "INFO:root:Epoch[11] Batch [200]\tSpeed: 4093.55 samples/sec\tTrain-accuracy=0.996583\n",
      "INFO:root:Epoch[11] Batch [400]\tSpeed: 4093.33 samples/sec\tTrain-accuracy=0.998250\n",
      "INFO:root:Epoch[11] Batch [600]\tSpeed: 4128.44 samples/sec\tTrain-accuracy=0.997333\n",
      "INFO:root:Epoch[11] Batch [800]\tSpeed: 3992.25 samples/sec\tTrain-accuracy=0.998583\n",
      "INFO:root:Epoch[11] Batch [1000]\tSpeed: 4064.92 samples/sec\tTrain-accuracy=0.998833\n",
      "INFO:root:Epoch[11] Resetting Data Iterator\n",
      "INFO:root:Epoch[11] Time cost=14.748\n",
      "INFO:root:Epoch[11] Validation-accuracy=0.981337\n",
      "INFO:root:Epoch[12] Batch [200]\tSpeed: 4093.45 samples/sec\tTrain-accuracy=0.998833\n",
      "INFO:root:Epoch[12] Batch [400]\tSpeed: 4075.73 samples/sec\tTrain-accuracy=0.999083\n",
      "INFO:root:Epoch[12] Batch [600]\tSpeed: 4141.39 samples/sec\tTrain-accuracy=0.998583\n",
      "INFO:root:Epoch[12] Batch [800]\tSpeed: 4139.48 samples/sec\tTrain-accuracy=0.997833\n",
      "INFO:root:Epoch[12] Batch [1000]\tSpeed: 4115.22 samples/sec\tTrain-accuracy=0.998750\n",
      "INFO:root:Epoch[12] Resetting Data Iterator\n",
      "INFO:root:Epoch[12] Time cost=14.615\n",
      "INFO:root:Epoch[12] Validation-accuracy=0.982236\n",
      "INFO:root:Epoch[13] Batch [200]\tSpeed: 4086.11 samples/sec\tTrain-accuracy=0.998833\n",
      "INFO:root:Epoch[13] Batch [400]\tSpeed: 4049.01 samples/sec\tTrain-accuracy=0.998083\n",
      "INFO:root:Epoch[13] Batch [600]\tSpeed: 4073.58 samples/sec\tTrain-accuracy=0.998250\n",
      "INFO:root:Epoch[13] Batch [800]\tSpeed: 4114.82 samples/sec\tTrain-accuracy=0.996500\n",
      "INFO:root:Epoch[13] Batch [1000]\tSpeed: 3841.83 samples/sec\tTrain-accuracy=0.998000\n",
      "INFO:root:Epoch[13] Resetting Data Iterator\n",
      "INFO:root:Epoch[13] Time cost=14.911\n",
      "INFO:root:Epoch[13] Validation-accuracy=0.974152\n",
      "INFO:root:Epoch[14] Batch [200]\tSpeed: 4126.18 samples/sec\tTrain-accuracy=0.997000\n",
      "INFO:root:Epoch[14] Batch [400]\tSpeed: 4021.30 samples/sec\tTrain-accuracy=0.996167\n",
      "INFO:root:Epoch[14] Batch [600]\tSpeed: 4047.59 samples/sec\tTrain-accuracy=0.997083\n",
      "INFO:root:Epoch[14] Batch [800]\tSpeed: 4053.21 samples/sec\tTrain-accuracy=0.998000\n",
      "INFO:root:Epoch[14] Batch [1000]\tSpeed: 3999.80 samples/sec\tTrain-accuracy=0.997167\n",
      "INFO:root:Epoch[14] Resetting Data Iterator\n",
      "INFO:root:Epoch[14] Time cost=14.838\n",
      "INFO:root:Epoch[14] Validation-accuracy=0.975948\n",
      "INFO:root:Epoch[15] Batch [200]\tSpeed: 4016.78 samples/sec\tTrain-accuracy=0.998667\n",
      "INFO:root:Epoch[15] Batch [400]\tSpeed: 4068.94 samples/sec\tTrain-accuracy=0.998083\n",
      "INFO:root:Epoch[15] Batch [600]\tSpeed: 3958.88 samples/sec\tTrain-accuracy=0.997500\n",
      "INFO:root:Epoch[15] Batch [800]\tSpeed: 4081.14 samples/sec\tTrain-accuracy=0.997583\n",
      "INFO:root:Epoch[15] Batch [1000]\tSpeed: 4057.00 samples/sec\tTrain-accuracy=0.998083\n",
      "INFO:root:Epoch[15] Resetting Data Iterator\n",
      "INFO:root:Epoch[15] Time cost=14.888\n",
      "INFO:root:Epoch[15] Validation-accuracy=0.980838\n",
      "INFO:root:Epoch[16] Batch [200]\tSpeed: 4079.34 samples/sec\tTrain-accuracy=0.998000\n",
      "INFO:root:Epoch[16] Batch [400]\tSpeed: 4060.62 samples/sec\tTrain-accuracy=0.997583\n",
      "INFO:root:Epoch[16] Batch [600]\tSpeed: 4032.25 samples/sec\tTrain-accuracy=0.998833\n",
      "INFO:root:Epoch[16] Batch [800]\tSpeed: 3984.21 samples/sec\tTrain-accuracy=0.998417\n",
      "INFO:root:Epoch[16] Batch [1000]\tSpeed: 3978.80 samples/sec\tTrain-accuracy=0.999000\n",
      "INFO:root:Epoch[16] Resetting Data Iterator\n",
      "INFO:root:Epoch[16] Time cost=14.924\n",
      "INFO:root:Epoch[16] Validation-accuracy=0.982635\n",
      "INFO:root:Epoch[17] Batch [200]\tSpeed: 4093.22 samples/sec\tTrain-accuracy=0.999167\n",
      "INFO:root:Epoch[17] Batch [400]\tSpeed: 4053.16 samples/sec\tTrain-accuracy=0.999333\n",
      "INFO:root:Epoch[17] Batch [600]\tSpeed: 4085.84 samples/sec\tTrain-accuracy=0.998750\n",
      "INFO:root:Epoch[17] Batch [800]\tSpeed: 4038.70 samples/sec\tTrain-accuracy=0.999083\n",
      "INFO:root:Epoch[17] Batch [1000]\tSpeed: 4044.11 samples/sec\tTrain-accuracy=0.999667\n",
      "INFO:root:Epoch[17] Resetting Data Iterator\n",
      "INFO:root:Epoch[17] Time cost=14.791\n",
      "INFO:root:Epoch[17] Validation-accuracy=0.983533\n",
      "INFO:root:Epoch[18] Batch [200]\tSpeed: 4136.72 samples/sec\tTrain-accuracy=0.999833\n",
      "INFO:root:Epoch[18] Batch [400]\tSpeed: 4048.66 samples/sec\tTrain-accuracy=0.999167\n",
      "INFO:root:Epoch[18] Batch [600]\tSpeed: 4034.47 samples/sec\tTrain-accuracy=0.998917\n",
      "INFO:root:Epoch[18] Batch [800]\tSpeed: 4060.21 samples/sec\tTrain-accuracy=0.999500\n",
      "INFO:root:Epoch[18] Batch [1000]\tSpeed: 4032.55 samples/sec\tTrain-accuracy=0.999333\n",
      "INFO:root:Epoch[18] Resetting Data Iterator\n",
      "INFO:root:Epoch[18] Time cost=14.791\n",
      "INFO:root:Epoch[18] Validation-accuracy=0.982335\n",
      "INFO:root:Epoch[19] Batch [200]\tSpeed: 4225.48 samples/sec\tTrain-accuracy=0.999917\n",
      "INFO:root:Epoch[19] Batch [400]\tSpeed: 4123.18 samples/sec\tTrain-accuracy=0.999667\n",
      "INFO:root:Epoch[19] Batch [600]\tSpeed: 4187.51 samples/sec\tTrain-accuracy=0.999833\n",
      "INFO:root:Epoch[19] Batch [800]\tSpeed: 4034.95 samples/sec\tTrain-accuracy=0.999833\n",
      "INFO:root:Epoch[19] Batch [1000]\tSpeed: 4012.55 samples/sec\tTrain-accuracy=1.000000\n",
      "INFO:root:Epoch[19] Resetting Data Iterator\n",
      "INFO:root:Epoch[19] Time cost=14.601\n",
      "INFO:root:Epoch[19] Validation-accuracy=0.983433\n",
      "INFO:root:Epoch[20] Batch [200]\tSpeed: 4101.80 samples/sec\tTrain-accuracy=1.000000\n",
      "INFO:root:Epoch[20] Batch [400]\tSpeed: 4073.26 samples/sec\tTrain-accuracy=1.000000\n",
      "INFO:root:Epoch[20] Batch [600]\tSpeed: 3955.65 samples/sec\tTrain-accuracy=1.000000\n",
      "INFO:root:Epoch[20] Batch [800]\tSpeed: 4028.96 samples/sec\tTrain-accuracy=0.999917\n",
      "INFO:root:Epoch[20] Batch [1000]\tSpeed: 4045.52 samples/sec\tTrain-accuracy=1.000000\n",
      "INFO:root:Epoch[20] Resetting Data Iterator\n",
      "INFO:root:Epoch[20] Time cost=14.869\n",
      "INFO:root:Epoch[20] Validation-accuracy=0.983333\n",
      "INFO:root:Epoch[21] Batch [200]\tSpeed: 4177.81 samples/sec\tTrain-accuracy=1.000000\n",
      "INFO:root:Epoch[21] Batch [400]\tSpeed: 4092.22 samples/sec\tTrain-accuracy=1.000000\n",
      "INFO:root:Epoch[21] Batch [600]\tSpeed: 4002.46 samples/sec\tTrain-accuracy=1.000000\n",
      "INFO:root:Epoch[21] Batch [800]\tSpeed: 3974.42 samples/sec\tTrain-accuracy=0.999833\n",
      "INFO:root:Epoch[21] Batch [1000]\tSpeed: 4137.60 samples/sec\tTrain-accuracy=1.000000\n",
      "INFO:root:Epoch[21] Resetting Data Iterator\n",
      "INFO:root:Epoch[21] Time cost=14.742\n",
      "INFO:root:Epoch[21] Validation-accuracy=0.984132\n",
      "INFO:root:Epoch[22] Batch [200]\tSpeed: 4160.03 samples/sec\tTrain-accuracy=1.000000\n",
      "INFO:root:Epoch[22] Batch [400]\tSpeed: 4114.57 samples/sec\tTrain-accuracy=1.000000\n",
      "INFO:root:Epoch[22] Batch [600]\tSpeed: 4048.08 samples/sec\tTrain-accuracy=1.000000\n",
      "INFO:root:Epoch[22] Batch [800]\tSpeed: 4049.03 samples/sec\tTrain-accuracy=1.000000\n",
      "INFO:root:Epoch[22] Batch [1000]\tSpeed: 4116.55 samples/sec\tTrain-accuracy=1.000000\n",
      "INFO:root:Epoch[22] Resetting Data Iterator\n",
      "INFO:root:Epoch[22] Time cost=14.667\n",
      "INFO:root:Epoch[22] Validation-accuracy=0.984331\n",
      "INFO:root:Epoch[23] Batch [200]\tSpeed: 3996.88 samples/sec\tTrain-accuracy=1.000000\n",
      "INFO:root:Epoch[23] Batch [400]\tSpeed: 4063.86 samples/sec\tTrain-accuracy=1.000000\n",
      "INFO:root:Epoch[23] Batch [600]\tSpeed: 4026.76 samples/sec\tTrain-accuracy=1.000000\n",
      "INFO:root:Epoch[23] Batch [800]\tSpeed: 4048.47 samples/sec\tTrain-accuracy=1.000000\n",
      "INFO:root:Epoch[23] Batch [1000]\tSpeed: 4039.37 samples/sec\tTrain-accuracy=1.000000\n",
      "INFO:root:Epoch[23] Resetting Data Iterator\n",
      "INFO:root:Epoch[23] Time cost=14.891\n",
      "INFO:root:Epoch[23] Validation-accuracy=0.984331\n",
      "INFO:root:Epoch[24] Batch [200]\tSpeed: 4160.02 samples/sec\tTrain-accuracy=1.000000\n",
      "INFO:root:Epoch[24] Batch [400]\tSpeed: 4049.86 samples/sec\tTrain-accuracy=1.000000\n",
      "INFO:root:Epoch[24] Batch [600]\tSpeed: 3984.59 samples/sec\tTrain-accuracy=1.000000\n",
      "INFO:root:Epoch[24] Batch [800]\tSpeed: 4033.24 samples/sec\tTrain-accuracy=1.000000\n",
      "INFO:root:Epoch[24] Batch [1000]\tSpeed: 3989.45 samples/sec\tTrain-accuracy=1.000000\n",
      "INFO:root:Epoch[24] Resetting Data Iterator\n",
      "INFO:root:Epoch[24] Time cost=14.861\n",
      "INFO:root:Epoch[24] Validation-accuracy=0.984431\n"
     ]
    }
   ],
   "source": [
    "# Output may vary\n",
    "import logging\n",
    "logging.getLogger().setLevel(logging.DEBUG)\n",
    "\n",
    "model = mx.model.FeedForward(\n",
    "    symbol = mlp,       # network structure\n",
    "    num_epoch = 25,     # number of data passes for training \n",
    "    learning_rate = 0.33 # learning rate of SGD \n",
    ")\n",
    "model.fit(\n",
    "    X=train_iter,       # training data\n",
    "    eval_data=val_iter, # validation data\n",
    "    batch_end_callback = mx.callback.Speedometer(batch_size, 200) # output progress for each 200 data batches\n",
    ")"
   ]
  },
  {
   "cell_type": "markdown",
   "metadata": {
    "collapsed": true
   },
   "source": [
    "After training is done, we can predict a single image. "
   ]
  },
  {
   "cell_type": "code",
   "execution_count": 16,
   "metadata": {
    "collapsed": false
   },
   "outputs": [
    {
     "data": {
      "image/png": "[encoded data removed]",
      "text/plain": [
       "<matplotlib.figure.Figure at 0x7f6ce592f710>"
      ]
     },
     "metadata": {},
     "output_type": "display_data"
    },
    {
     "name": "stdout",
     "output_type": "stream",
     "text": [
      "Classified as 7 with probability 0.999980\n"
     ]
    }
   ],
   "source": [
    "# Output may vary\n",
    "plt.imshow(val_img[0], cmap='Greys_r')\n",
    "plt.axis('off')\n",
    "plt.show()\n",
    "prob = model.predict(val_img[0:1].astype(np.float32)/255)[0]\n",
    "assert max(prob) > 0.99, \"Low prediction accuracy.\"\n",
    "print 'Classified as %d with probability %f' % (prob.argmax(), max(prob))"
   ]
  },
  {
   "cell_type": "markdown",
   "metadata": {},
   "source": [
    "We can also evaluate the accuracy given a data iterator. "
   ]
  },
  {
   "cell_type": "code",
   "execution_count": 17,
   "metadata": {
    "collapsed": false
   },
   "outputs": [
    {
     "name": "stdout",
     "output_type": "stream",
     "text": [
      "Validation accuracy: 97.940000%\n"
     ]
    }
   ],
   "source": [
    "# Output may vary\n",
    "valid_acc = model.score(val_iter)\n",
    "print 'Validation accuracy: %f%%' % (valid_acc *100,)\n",
    "assert valid_acc > 0.95, \"Low validation accuracy.\""
   ]
  },
  {
   "cell_type": "markdown",
   "metadata": {},
   "source": [
    "Even more, we can recognizes the digit written on the below box. "
   ]
  },
  {
   "cell_type": "code",
   "execution_count": 31,
   "metadata": {
    "collapsed": false
   },
   "outputs": [
    {
     "data": {
      "text/html": [
       "\n",
       "<style type=\"text/css\">\n",
       "  canvas { border: 1px solid black; }\n",
       "</style>\n",
       "\n",
       "<div id=\"board\">\n",
       "\n",
       "  <canvas id=\"myCanvas\" width=\"100px\" height=\"100px\">\n",
       "    Sorry, your browser doesn't support canvas technology.\n",
       "  </canvas>\n",
       "\n",
       "  <p>\n",
       "\n",
       "    <button id=\"classify\" onclick=\"classify()\">\n",
       "      Classify\n",
       "    </button>\n",
       "\n",
       "    <button id=\"clear\" onclick=\"myClear()\">\n",
       "      Clear\n",
       "    </button>\n",
       "    Result: \n",
       "    <input type=\"text\" id=\"result_output\" size=\"5\" value=\"\">\n",
       "\n",
       "  </p>\n",
       "\n",
       "</div>\n",
       "\n",
       "<script type = \"text/JavaScript\" src = \"https://ajax.googleapis.com/ajax/libs/jquery/1.4.2/jquery.min.js?ver=1.4.2\" > </script>\n",
       "\n",
       "<script type = \"text/javascript\" >\n",
       "\n",
       "    function init() {\n",
       "        var myCanvas = document.getElementById(\"myCanvas\");\n",
       "        var curColor = $('#selectColor option:selected').val();\n",
       "        if (myCanvas) {\n",
       "            var isDown = false;\n",
       "            var ctx = myCanvas.getContext(\"2d\");\n",
       "            var canvasX, canvasY;\n",
       "            ctx.lineWidth = 8;\n",
       "            $(myCanvas).mousedown(function(e) {\n",
       "                isDown = true;\n",
       "                ctx.beginPath();\n",
       "                var parentOffset = $(this).parent().offset();\n",
       "                canvasX = e.pageX - parentOffset.left;\n",
       "                canvasY = e.pageY - parentOffset.top;\n",
       "                ctx.moveTo(canvasX, canvasY);\n",
       "            }).mousemove(function(e) {\n",
       "                if (isDown != false) {\n",
       "                    var parentOffset = $(this).parent().offset();\n",
       "                    canvasX = e.pageX - parentOffset.left;\n",
       "                    canvasY = e.pageY - parentOffset.top;\n",
       "                    ctx.lineTo(canvasX, canvasY);\n",
       "                    ctx.strokeStyle = curColor;\n",
       "                    ctx.stroke();\n",
       "                }\n",
       "            }).mouseup(function(e) {\n",
       "                isDown = false;\n",
       "                ctx.closePath();\n",
       "            });\n",
       "        }\n",
       "        $('#selectColor').change(function() {\n",
       "            curColor = $('#selectColor option:selected').val();\n",
       "        });\n",
       "    }\n",
       "init();\n",
       "\n",
       "function handle_output(out) {\n",
       "    document.getElementById(\"result_output\").value = out.content.data[\"text/plain\"];\n",
       "}\n",
       "\n",
       "function classify() {\n",
       "    var kernel = IPython.notebook.kernel;\n",
       "    var myCanvas = document.getElementById(\"myCanvas\");\n",
       "    data = myCanvas.toDataURL('image/png');\n",
       "    document.getElementById(\"result_output\").value = \"\";\n",
       "    kernel.execute(\"classify('\" + data + \"')\", {\n",
       "        'iopub': {\n",
       "            'output': handle_output\n",
       "        }\n",
       "    }, {\n",
       "        silent: false\n",
       "    });\n",
       "}\n",
       "\n",
       "function myClear() {\n",
       "    var myCanvas = document.getElementById(\"myCanvas\");\n",
       "    myCanvas.getContext(\"2d\").clearRect(0, 0, myCanvas.width, myCanvas.height);\n",
       "}\n",
       "\n",
       "\n",
       "</script>\n"
      ],
      "text/plain": [
       "<IPython.core.display.HTML object>"
      ]
     },
     "execution_count": 31,
     "metadata": {},
     "output_type": "execute_result"
    }
   ],
   "source": [
    "from IPython.display import HTML\n",
    "import cv2\n",
    "import numpy as np\n",
    "\n",
    "def classify(img):\n",
    "    img = img[len('data:image/png;base64,'):].decode('base64')\n",
    "    img = cv2.imdecode(np.fromstring(img, np.uint8), -1)\n",
    "    img = cv2.resize(img[:,:,3], (28,28))\n",
    "    img = img.astype(np.float32).reshape((1,1,28,28))/255.0\n",
    "    return model.predict(img)[0].argmax()\n",
    "\n",
    "'''\n",
    "To see the model in action, run the demo notebook at\n",
    "https://github.com/dmlc/mxnet-notebooks/blob/master/python/tutorials/mnist.ipynb.\n",
    "'''\n",
    "HTML(filename=\"mnist_demo.html\")"
   ]
  },
  {
   "cell_type": "markdown",
   "metadata": {},
   "source": [
    "## Convolutional Neural Networks\n",
    "\n",
    "Note that the previous fully-connected layer simply reshapes the image into a vector during training. It ignores the spatial information that pixels are correlated on both horizontal and vertical dimensions. The convolutional layer aims to improve this drawback by using a more structural weight $W$. Instead of simply matrix-matrix multiplication, it uses 2-D convolution to obtain the output. "
   ]
  },
  {
   "cell_type": "markdown",
   "metadata": {},
   "source": [
    "<img src=\"https://thatindiandude.github.io/images/conv.png\" style=\"height: 75%; width: 75%;\">"
   ]
  },
  {
   "cell_type": "markdown",
   "metadata": {},
   "source": [
    "We can also have multiple feature maps, each with their own weight matrices, to capture different features: \n",
    "<img src=\"https://thatindiandude.github.io/images/filters.png\" style=\"height: 75%; width: 75%;\">"
   ]
  },
  {
   "cell_type": "markdown",
   "metadata": {},
   "source": [
    "Besides the convolutional layer, another major change of the convolutional neural network is the adding of pooling layers. A pooling layer reduce a $n\\times m$ (often called kernal size) image patch into a single value to make the network less sensitive to the spatial location.\n",
    "\n",
    "<img src=\"https://thatindiandude.github.io/images/pooling.png\" style=\"height: 75%; width: 75%;\">"
   ]
  },
  {
   "cell_type": "code",
   "execution_count": 32,
   "metadata": {
    "collapsed": true
   },
   "outputs": [],
   "source": [
    "data = mx.symbol.Variable('data')\n",
    "# first conv layer\n",
    "conv1 = mx.sym.Convolution(data=data, kernel=(5,5), num_filter=20)\n",
    "tanh1 = mx.sym.Activation(data=conv1, act_type=\"tanh\")\n",
    "pool1 = mx.sym.Pooling(data=tanh1, pool_type=\"max\", kernel=(2,2), stride=(2,2))\n",
    "# second conv layer\n",
    "conv2 = mx.sym.Convolution(data=pool1, kernel=(5,5), num_filter=50)\n",
    "tanh2 = mx.sym.Activation(data=conv2, act_type=\"tanh\")\n",
    "pool2 = mx.sym.Pooling(data=tanh2, pool_type=\"max\", kernel=(2,2), stride=(2,2))\n",
    "# first fullc layer\n",
    "flatten = mx.sym.Flatten(data=pool2)\n",
    "fc1 = mx.symbol.FullyConnected(data=flatten, num_hidden=500)\n",
    "tanh3 = mx.sym.Activation(data=fc1, act_type=\"tanh\")\n",
    "# second fullc\n",
    "fc2 = mx.sym.FullyConnected(data=tanh3, num_hidden=10)\n",
    "# softmax loss\n",
    "lenet = mx.sym.SoftmaxOutput(data=fc2, name='softmax')"
   ]
  },
  {
   "cell_type": "markdown",
   "metadata": {},
   "source": [
    "Note that LeNet is more complex than the previous multilayer perceptron, so we use GPU instead of CPU for training. "
   ]
  },
  {
   "cell_type": "code",
   "execution_count": 34,
   "metadata": {
    "collapsed": false,
    "scrolled": true
   },
   "outputs": [
    {
     "name": "stderr",
     "output_type": "stream",
     "text": [
      "WARNING:root:\u001b[91m[Deprecation Warning] mxnet.model.FeedForward has been deprecated. Please use mxnet.mod.Module instead.\u001b[0m\n",
      "INFO:root:Start training with [gpu(0)]\n"
     ]
    },
    {
     "ename": "MXNetError",
     "evalue": "[15:09:08] src/storage/storage.cc:78: Compile with USE_CUDA=1 to enable GPU usage\n\nStack trace returned 95 entries:\n[bt] (0) /home/ganta/mxnet/python/mxnet/../../lib/libmxnet.so(+0xc63fac) [0x7fef9c7f1fac]\n[bt] (1) /home/ganta/mxnet/python/mxnet/../../lib/libmxnet.so(+0xc65917) [0x7fef9c7f3917]\n[bt] (2) /home/ganta/mxnet/python/mxnet/../../lib/libmxnet.so(_ZN5mxnet11StorageImpl5AllocEmNS_7ContextE+0x4f) [0x7fef9c7f57cf]\n[bt] (3) /home/ganta/mxnet/python/mxnet/../../lib/libmxnet.so(MXNDArrayCreateEx+0x530) [0x7fef9c83ecb0]\n[bt] (4) /usr/lib/x86_64-linux-gnu/libffi.so.6(ffi_call_unix64+0x4c) [0x7fefc86cde40]\n[bt] (5) /usr/lib/x86_64-linux-gnu/libffi.so.6(ffi_call+0x2eb) [0x7fefc86cd8ab]\n[bt] (6) /usr/lib/python2.7/lib-dynload/_ctypes.x86_64-linux-gnu.so(_ctypes_callproc+0x48f) [0x7fefc891e3df]\n[bt] (7) /usr/lib/python2.7/lib-dynload/_ctypes.x86_64-linux-gnu.so(+0x11d82) [0x7fefc8922d82]\n[bt] (8) /usr/bin/python(PyObject_Call+0x43) [0x4b0cb3]\n[bt] (9) /usr/bin/python(PyEval_EvalFrameEx+0x5faf) [0x4c9faf]\n[bt] (10) /usr/bin/python(PyEval_EvalCodeEx+0x255) [0x4c2765]\n[bt] (11) /usr/bin/python(PyEval_EvalFrameEx+0x6099) [0x4ca099]\n[bt] (12) /usr/bin/python(PyEval_EvalCodeEx+0x255) [0x4c2765]\n[bt] (13) /usr/bin/python(PyEval_EvalFrameEx+0x6099) [0x4ca099]\n[bt] (14) /usr/bin/python(PyEval_EvalCodeEx+0x255) [0x4c2765]\n[bt] (15) /usr/bin/python(PyEval_EvalFrameEx+0x6099) [0x4ca099]\n[bt] (16) /usr/bin/python(PyEval_EvalCodeEx+0x255) [0x4c2765]\n[bt] (17) /usr/bin/python(PyEval_EvalFrameEx+0x6099) [0x4ca099]\n[bt] (18) /usr/bin/python(PyEval_EvalCodeEx+0x255) [0x4c2765]\n[bt] (19) /usr/bin/python() [0x4de6fe]\n[bt] (20) /usr/bin/python(PyObject_Call+0x43) [0x4b0cb3]\n[bt] (21) /usr/bin/python() [0x4f492e]\n[bt] (22) /usr/bin/python(PyObject_Call+0x43) [0x4b0cb3]\n[bt] (23) /usr/bin/python() [0x4f46a7]\n[bt] (24) /usr/bin/python() [0x4b670c]\n[bt] (25) /usr/bin/python(PyObject_Call+0x43) [0x4b0cb3]\n[bt] (26) /usr/bin/python(PyEval_EvalFrameEx+0x5faf) [0x4c9faf]\n[bt] (27) /usr/bin/python(PyEval_EvalCodeEx+0x255) [0x4c2765]\n[bt] (28) /usr/bin/python() [0x4de8b8]\n[bt] (29) /usr/bin/python(PyObject_Call+0x43) [0x4b0cb3]\n[bt] (30) /usr/bin/python() [0x4f492e]\n[bt] (31) /usr/bin/python(PyObject_Call+0x43) [0x4b0cb3]\n[bt] (32) /usr/bin/python() [0x4f46a7]\n[bt] (33) /usr/bin/python() [0x4b670c]\n[bt] (34) /usr/bin/python(PyObject_Call+0x43) [0x4b0cb3]\n[bt] (35) /usr/bin/python(PyEval_EvalFrameEx+0x5faf) [0x4c9faf]\n[bt] (36) /usr/bin/python(PyEval_EvalCodeEx+0x255) [0x4c2765]\n[bt] (37) /usr/bin/python(PyEval_EvalFrameEx+0x6099) [0x4ca099]\n[bt] (38) /usr/bin/python(PyEval_EvalCodeEx+0x255) [0x4c2765]\n[bt] (39) /usr/bin/python(PyEval_EvalFrameEx+0x6099) [0x4ca099]\n[bt] (40) /usr/bin/python(PyEval_EvalCodeEx+0x255) [0x4c2765]\n[bt] (41) /usr/bin/python(PyEval_EvalFrameEx+0x44db) [0x4c84db]\n[bt] (42) /usr/bin/python(PyEval_EvalCodeEx+0x255) [0x4c2765]\n[bt] (43) /usr/bin/python(PyEval_EvalFrameEx+0x6099) [0x4ca099]\n[bt] (44) /usr/bin/python(PyEval_EvalCodeEx+0x255) [0x4c2765]\n[bt] (45) /usr/bin/python(PyEval_EvalFrameEx+0x6099) [0x4ca099]\n[bt] (46) /usr/bin/python(PyEval_EvalCodeEx+0x255) [0x4c2765]\n[bt] (47) /usr/bin/python() [0x4de8b8]\n[bt] (48) /usr/bin/python(PyObject_Call+0x43) [0x4b0cb3]\n[bt] (49) /usr/bin/python(PyEval_EvalFrameEx+0x2ad1) [0x4c6ad1]\n[bt] (50) /usr/bin/python(PyEval_EvalCodeEx+0x255) [0x4c2765]\n[bt] (51) /usr/bin/python(PyEval_EvalFrameEx+0x68d1) [0x4ca8d1]\n[bt] (52) /usr/bin/python(PyEval_EvalCodeEx+0x255) [0x4c2765]\n[bt] (53) /usr/bin/python(PyEval_EvalFrameEx+0x6099) [0x4ca099]\n[bt] (54) /usr/bin/python(PyEval_EvalCodeEx+0x255) [0x4c2765]\n[bt] (55) /usr/bin/python(PyEval_EvalFrameEx+0x68d1) [0x4ca8d1]\n[bt] (56) /usr/bin/python(PyEval_EvalCodeEx+0x255) [0x4c2765]\n[bt] (57) /usr/bin/python(PyEval_EvalFrameEx+0x68d1) [0x4ca8d1]\n[bt] (58) /usr/bin/python(PyEval_EvalCodeEx+0x255) [0x4c2765]\n[bt] (59) /usr/bin/python() [0x4de8b8]\n[bt] (60) /usr/bin/python(PyObject_Call+0x43) [0x4b0cb3]\n[bt] (61) /usr/bin/python(PyEval_EvalFrameEx+0x2ad1) [0x4c6ad1]\n[bt] (62) /usr/bin/python(PyEval_EvalCodeEx+0x255) [0x4c2765]\n[bt] (63) /usr/bin/python() [0x4de8b8]\n[bt] (64) /usr/bin/python(PyObject_Call+0x43) [0x4b0cb3]\n[bt] (65) /usr/bin/python(PyEval_EvalFrameEx+0x2ad1) [0x4c6ad1]\n[bt] (66) /usr/bin/python(PyEval_EvalCodeEx+0x255) [0x4c2765]\n[bt] (67) /usr/bin/python(PyEval_EvalFrameEx+0x68d1) [0x4ca8d1]\n[bt] (68) /usr/bin/python(PyEval_EvalCodeEx+0x255) [0x4c2765]\n[bt] (69) /usr/bin/python(PyEval_EvalFrameEx+0x68d1) [0x4ca8d1]\n[bt] (70) /usr/bin/python(PyEval_EvalCodeEx+0x255) [0x4c2765]\n[bt] (71) /usr/bin/python() [0x4de8b8]\n[bt] (72) /usr/bin/python(PyObject_Call+0x43) [0x4b0cb3]\n[bt] (73) /usr/bin/python(PyEval_EvalFrameEx+0x2ad1) [0x4c6ad1]\n[bt] (74) /usr/bin/python(PyEval_EvalCodeEx+0x255) [0x4c2765]\n[bt] (75) /usr/bin/python(PyEval_EvalFrameEx+0x68d1) [0x4ca8d1]\n[bt] (76) /usr/bin/python(PyEval_EvalCodeEx+0x255) [0x4c2765]\n[bt] (77) /usr/bin/python(PyEval_EvalFrameEx+0x68d1) [0x4ca8d1]\n[bt] (78) /usr/bin/python(PyEval_EvalCodeEx+0x255) [0x4c2765]\n[bt] (79) /usr/bin/python(PyEval_EvalFrameEx+0x68d1) [0x4ca8d1]\n[bt] (80) /usr/bin/python(PyEval_EvalCodeEx+0x255) [0x4c2765]\n[bt] (81) /usr/bin/python(PyEval_EvalFrameEx+0x68d1) [0x4ca8d1]\n[bt] (82) /usr/bin/python(PyEval_EvalCodeEx+0x255) [0x4c2765]\n[bt] (83) /usr/bin/python(PyEval_EvalFrameEx+0x6099) [0x4ca099]\n[bt] (84) /usr/bin/python(PyEval_EvalCodeEx+0x255) [0x4c2765]\n[bt] (85) /usr/bin/python(PyEval_EvalFrameEx+0x44db) [0x4c84db]\n[bt] (86) /usr/bin/python(PyEval_EvalCodeEx+0x255) [0x4c2765]\n[bt] (87) /usr/bin/python(PyEval_EvalFrameEx+0x6099) [0x4ca099]\n[bt] (88) /usr/bin/python(PyEval_EvalCodeEx+0x255) [0x4c2765]\n[bt] (89) /usr/bin/python() [0x4de6fe]\n[bt] (90) /usr/bin/python(PyObject_Call+0x43) [0x4b0cb3]\n[bt] (91) /usr/bin/python() [0x521eec]\n[bt] (92) /usr/bin/python(Py_Main+0x6c8) [0x49e188]\n[bt] (93) /lib/x86_64-linux-gnu/libc.so.6(__libc_start_main+0xf0) [0x7fefca778830]\n[bt] (94) /usr/bin/python(_start+0x29) [0x49d9d9]\n",
     "output_type": "error",
     "traceback": [
      "\u001b[0;31m---------------------------------------------------------------------------\u001b[0m",
      "\u001b[0;31mMXNetError\u001b[0m                                Traceback (most recent call last)",
      "\u001b[0;32m<ipython-input-34-6fee7ffc08a9>\u001b[0m in \u001b[0;36m<module>\u001b[0;34m()\u001b[0m\n\u001b[1;32m      8\u001b[0m     \u001b[0mX\u001b[0m\u001b[0;34m=\u001b[0m\u001b[0mtrain_iter\u001b[0m\u001b[0;34m,\u001b[0m\u001b[0;34m\u001b[0m\u001b[0m\n\u001b[1;32m      9\u001b[0m     \u001b[0meval_data\u001b[0m\u001b[0;34m=\u001b[0m\u001b[0mval_iter\u001b[0m\u001b[0;34m,\u001b[0m\u001b[0;34m\u001b[0m\u001b[0m\n\u001b[0;32m---> 10\u001b[0;31m     \u001b[0mbatch_end_callback\u001b[0m \u001b[0;34m=\u001b[0m \u001b[0mmx\u001b[0m\u001b[0;34m.\u001b[0m\u001b[0mcallback\u001b[0m\u001b[0;34m.\u001b[0m\u001b[0mSpeedometer\u001b[0m\u001b[0;34m(\u001b[0m\u001b[0mbatch_size\u001b[0m\u001b[0;34m,\u001b[0m \u001b[0;36m200\u001b[0m\u001b[0;34m)\u001b[0m\u001b[0;34m\u001b[0m\u001b[0m\n\u001b[0m\u001b[1;32m     11\u001b[0m ) \n\u001b[1;32m     12\u001b[0m \u001b[0;32massert\u001b[0m \u001b[0mmodel\u001b[0m\u001b[0;34m.\u001b[0m\u001b[0mscore\u001b[0m\u001b[0;34m(\u001b[0m\u001b[0mval_iter\u001b[0m\u001b[0;34m)\u001b[0m \u001b[0;34m>\u001b[0m \u001b[0;36m0.98\u001b[0m\u001b[0;34m,\u001b[0m \u001b[0;34m\"Low validation accuracy.\"\u001b[0m\u001b[0;34m\u001b[0m\u001b[0m\n",
      "\u001b[0;32m/home/ganta/mxnet/python/mxnet/model.pyc\u001b[0m in \u001b[0;36mfit\u001b[0;34m(self, X, y, eval_data, eval_metric, epoch_end_callback, batch_end_callback, kvstore, logger, work_load_list, monitor, eval_end_callback, eval_batch_end_callback)\u001b[0m\n\u001b[1;32m    812\u001b[0m                             \u001b[0meval_end_callback\u001b[0m\u001b[0;34m=\u001b[0m\u001b[0meval_end_callback\u001b[0m\u001b[0;34m,\u001b[0m\u001b[0;34m\u001b[0m\u001b[0m\n\u001b[1;32m    813\u001b[0m                             \u001b[0meval_batch_end_callback\u001b[0m\u001b[0;34m=\u001b[0m\u001b[0meval_batch_end_callback\u001b[0m\u001b[0;34m,\u001b[0m\u001b[0;34m\u001b[0m\u001b[0m\n\u001b[0;32m--> 814\u001b[0;31m                             sym_gen=self.sym_gen)\n\u001b[0m\u001b[1;32m    815\u001b[0m \u001b[0;34m\u001b[0m\u001b[0m\n\u001b[1;32m    816\u001b[0m \u001b[0;34m\u001b[0m\u001b[0m\n",
      "\u001b[0;32m/home/ganta/mxnet/python/mxnet/model.pyc\u001b[0m in \u001b[0;36m_train_multi_device\u001b[0;34m(symbol, ctx, arg_names, param_names, aux_names, arg_params, aux_params, begin_epoch, end_epoch, epoch_size, optimizer, kvstore, update_on_kvstore, train_data, eval_data, eval_metric, epoch_end_callback, batch_end_callback, logger, work_load_list, monitor, eval_end_callback, eval_batch_end_callback, sym_gen)\u001b[0m\n\u001b[1;32m    204\u001b[0m                                                    \u001b[0maux_names\u001b[0m\u001b[0;34m=\u001b[0m\u001b[0maux_names\u001b[0m\u001b[0;34m,\u001b[0m\u001b[0;34m\u001b[0m\u001b[0m\n\u001b[1;32m    205\u001b[0m                                                    \u001b[0mwork_load_list\u001b[0m\u001b[0;34m=\u001b[0m\u001b[0mwork_load_list\u001b[0m\u001b[0;34m,\u001b[0m\u001b[0;34m\u001b[0m\u001b[0m\n\u001b[0;32m--> 206\u001b[0;31m                                                    logger=logger)\n\u001b[0m\u001b[1;32m    207\u001b[0m     \u001b[0;32mif\u001b[0m \u001b[0mmonitor\u001b[0m\u001b[0;34m:\u001b[0m\u001b[0;34m\u001b[0m\u001b[0m\n\u001b[1;32m    208\u001b[0m         \u001b[0mexecutor_manager\u001b[0m\u001b[0;34m.\u001b[0m\u001b[0minstall_monitor\u001b[0m\u001b[0;34m(\u001b[0m\u001b[0mmonitor\u001b[0m\u001b[0;34m)\u001b[0m\u001b[0;34m\u001b[0m\u001b[0m\n",
      "\u001b[0;32m/home/ganta/mxnet/python/mxnet/executor_manager.pyc\u001b[0m in \u001b[0;36m__init__\u001b[0;34m(self, symbol, ctx, train_data, arg_names, param_names, aux_names, work_load_list, logger, sym_gen)\u001b[0m\n\u001b[1;32m    325\u001b[0m \u001b[0;34m\u001b[0m\u001b[0m\n\u001b[1;32m    326\u001b[0m         self.execgrp = DataParallelExecutorGroup(symbol, self.arg_names, self.param_names, self.ctx,\n\u001b[0;32m--> 327\u001b[0;31m                                                  self.slices, train_data)\n\u001b[0m\u001b[1;32m    328\u001b[0m         \u001b[0mself\u001b[0m\u001b[0;34m.\u001b[0m\u001b[0msymbol\u001b[0m \u001b[0;34m=\u001b[0m \u001b[0msymbol\u001b[0m\u001b[0;34m\u001b[0m\u001b[0m\n\u001b[1;32m    329\u001b[0m \u001b[0;34m\u001b[0m\u001b[0m\n",
      "\u001b[0;32m/home/ganta/mxnet/python/mxnet/executor_manager.pyc\u001b[0m in \u001b[0;36m__init__\u001b[0;34m(self, sym, arg_names, param_names, ctx, slices, train_data, shared_group)\u001b[0m\n\u001b[1;32m    237\u001b[0m                                     \u001b[0mneed_grad\u001b[0m\u001b[0;34m=\u001b[0m\u001b[0mTrue\u001b[0m\u001b[0;34m,\u001b[0m \u001b[0mbase_exec\u001b[0m\u001b[0;34m=\u001b[0m\u001b[0mshared_exec\u001b[0m\u001b[0;34m,\u001b[0m\u001b[0;34m\u001b[0m\u001b[0m\n\u001b[1;32m    238\u001b[0m                                     \u001b[0mshared_data_arrays\u001b[0m\u001b[0;34m=\u001b[0m\u001b[0mself\u001b[0m\u001b[0;34m.\u001b[0m\u001b[0mshared_data_arrays\u001b[0m\u001b[0;34m[\u001b[0m\u001b[0mi\u001b[0m\u001b[0;34m]\u001b[0m\u001b[0;34m,\u001b[0m\u001b[0;34m\u001b[0m\u001b[0m\n\u001b[0;32m--> 239\u001b[0;31m                                     input_types=data_types)\n\u001b[0m\u001b[1;32m    240\u001b[0m             \u001b[0mself\u001b[0m\u001b[0;34m.\u001b[0m\u001b[0mtrain_execs\u001b[0m\u001b[0;34m.\u001b[0m\u001b[0mappend\u001b[0m\u001b[0;34m(\u001b[0m\u001b[0mtrain_exec\u001b[0m\u001b[0;34m)\u001b[0m\u001b[0;34m\u001b[0m\u001b[0m\n\u001b[1;32m    241\u001b[0m \u001b[0;34m\u001b[0m\u001b[0m\n",
      "\u001b[0;32m/home/ganta/mxnet/python/mxnet/executor_manager.pyc\u001b[0m in \u001b[0;36m_bind_exec\u001b[0;34m(sym, ctx, input_shapes, param_names, need_grad, base_exec, shared_data_arrays, input_types, logger)\u001b[0m\n\u001b[1;32m    151\u001b[0m                     \u001b[0mshared_data_arrays\u001b[0m\u001b[0;34m[\u001b[0m\u001b[0mname\u001b[0m\u001b[0;34m]\u001b[0m \u001b[0;34m=\u001b[0m \u001b[0marg_arr\u001b[0m\u001b[0;34m\u001b[0m\u001b[0m\n\u001b[1;32m    152\u001b[0m             \u001b[0;32melse\u001b[0m\u001b[0;34m:\u001b[0m\u001b[0;34m\u001b[0m\u001b[0m\n\u001b[0;32m--> 153\u001b[0;31m                 \u001b[0marg_arr\u001b[0m \u001b[0;34m=\u001b[0m \u001b[0mnd\u001b[0m\u001b[0;34m.\u001b[0m\u001b[0mzeros\u001b[0m\u001b[0;34m(\u001b[0m\u001b[0marg_shape\u001b[0m\u001b[0;34m[\u001b[0m\u001b[0mi\u001b[0m\u001b[0;34m]\u001b[0m\u001b[0;34m,\u001b[0m \u001b[0mctx\u001b[0m\u001b[0;34m,\u001b[0m \u001b[0mdtype\u001b[0m\u001b[0;34m=\u001b[0m\u001b[0marg_types\u001b[0m\u001b[0;34m[\u001b[0m\u001b[0mi\u001b[0m\u001b[0;34m]\u001b[0m\u001b[0;34m)\u001b[0m\u001b[0;34m\u001b[0m\u001b[0m\n\u001b[0m\u001b[1;32m    154\u001b[0m                 \u001b[0;32mif\u001b[0m \u001b[0mshared_data_arrays\u001b[0m \u001b[0;32mis\u001b[0m \u001b[0;32mnot\u001b[0m \u001b[0mNone\u001b[0m\u001b[0;34m:\u001b[0m\u001b[0;34m\u001b[0m\u001b[0m\n\u001b[1;32m    155\u001b[0m                     \u001b[0mshared_data_arrays\u001b[0m\u001b[0;34m[\u001b[0m\u001b[0mname\u001b[0m\u001b[0;34m]\u001b[0m \u001b[0;34m=\u001b[0m \u001b[0marg_arr\u001b[0m\u001b[0;34m\u001b[0m\u001b[0m\n",
      "\u001b[0;32m/home/ganta/mxnet/python/mxnet/ndarray.pyc\u001b[0m in \u001b[0;36mzeros\u001b[0;34m(shape, ctx, dtype)\u001b[0m\n\u001b[1;32m   1050\u001b[0m         \u001b[0mThe\u001b[0m \u001b[0mcreated\u001b[0m \u001b[0mNDArray\u001b[0m\u001b[0;34m.\u001b[0m\u001b[0;34m\u001b[0m\u001b[0m\n\u001b[1;32m   1051\u001b[0m     \"\"\"\n\u001b[0;32m-> 1052\u001b[0;31m     \u001b[0marr\u001b[0m \u001b[0;34m=\u001b[0m \u001b[0mempty\u001b[0m\u001b[0;34m(\u001b[0m\u001b[0mshape\u001b[0m\u001b[0;34m,\u001b[0m \u001b[0mctx\u001b[0m\u001b[0;34m,\u001b[0m \u001b[0mdtype\u001b[0m\u001b[0;34m)\u001b[0m\u001b[0;34m\u001b[0m\u001b[0m\n\u001b[0m\u001b[1;32m   1053\u001b[0m     \u001b[0marr\u001b[0m\u001b[0;34m[\u001b[0m\u001b[0;34m:\u001b[0m\u001b[0;34m]\u001b[0m \u001b[0;34m=\u001b[0m \u001b[0;36m0.0\u001b[0m\u001b[0;34m\u001b[0m\u001b[0m\n\u001b[1;32m   1054\u001b[0m     \u001b[0;32mreturn\u001b[0m \u001b[0marr\u001b[0m\u001b[0;34m\u001b[0m\u001b[0m\n",
      "\u001b[0;32m/home/ganta/mxnet/python/mxnet/ndarray.pyc\u001b[0m in \u001b[0;36mempty\u001b[0;34m(shape, ctx, dtype)\u001b[0m\n\u001b[1;32m    636\u001b[0m     \u001b[0;32mif\u001b[0m \u001b[0mctx\u001b[0m \u001b[0;32mis\u001b[0m \u001b[0mNone\u001b[0m\u001b[0;34m:\u001b[0m\u001b[0;34m\u001b[0m\u001b[0m\n\u001b[1;32m    637\u001b[0m         \u001b[0mctx\u001b[0m \u001b[0;34m=\u001b[0m \u001b[0mContext\u001b[0m\u001b[0;34m.\u001b[0m\u001b[0mdefault_ctx\u001b[0m\u001b[0;34m\u001b[0m\u001b[0m\n\u001b[0;32m--> 638\u001b[0;31m     \u001b[0;32mreturn\u001b[0m \u001b[0mNDArray\u001b[0m\u001b[0;34m(\u001b[0m\u001b[0mhandle\u001b[0m\u001b[0;34m=\u001b[0m\u001b[0m_new_alloc_handle\u001b[0m\u001b[0;34m(\u001b[0m\u001b[0mshape\u001b[0m\u001b[0;34m,\u001b[0m \u001b[0mctx\u001b[0m\u001b[0;34m,\u001b[0m \u001b[0mFalse\u001b[0m\u001b[0;34m,\u001b[0m \u001b[0mdtype\u001b[0m\u001b[0;34m)\u001b[0m\u001b[0;34m)\u001b[0m\u001b[0;34m\u001b[0m\u001b[0m\n\u001b[0m\u001b[1;32m    639\u001b[0m \u001b[0;34m\u001b[0m\u001b[0m\n\u001b[1;32m    640\u001b[0m \u001b[0;31m#pylint: disable= too-many-arguments, no-member, protected-access\u001b[0m\u001b[0;34m\u001b[0m\u001b[0;34m\u001b[0m\u001b[0m\n",
      "\u001b[0;32m/home/ganta/mxnet/python/mxnet/ndarray.pyc\u001b[0m in \u001b[0;36m_new_alloc_handle\u001b[0;34m(shape, ctx, delay_alloc, dtype)\u001b[0m\n\u001b[1;32m     84\u001b[0m         \u001b[0mctypes\u001b[0m\u001b[0;34m.\u001b[0m\u001b[0mc_int\u001b[0m\u001b[0;34m(\u001b[0m\u001b[0mint\u001b[0m\u001b[0;34m(\u001b[0m\u001b[0mdelay_alloc\u001b[0m\u001b[0;34m)\u001b[0m\u001b[0;34m)\u001b[0m\u001b[0;34m,\u001b[0m\u001b[0;34m\u001b[0m\u001b[0m\n\u001b[1;32m     85\u001b[0m         \u001b[0mctypes\u001b[0m\u001b[0;34m.\u001b[0m\u001b[0mc_int\u001b[0m\u001b[0;34m(\u001b[0m\u001b[0mint\u001b[0m\u001b[0;34m(\u001b[0m\u001b[0m_DTYPE_NP_TO_MX\u001b[0m\u001b[0;34m[\u001b[0m\u001b[0mnp\u001b[0m\u001b[0;34m.\u001b[0m\u001b[0mdtype\u001b[0m\u001b[0;34m(\u001b[0m\u001b[0mdtype\u001b[0m\u001b[0;34m)\u001b[0m\u001b[0;34m.\u001b[0m\u001b[0mtype\u001b[0m\u001b[0;34m]\u001b[0m\u001b[0;34m)\u001b[0m\u001b[0;34m)\u001b[0m\u001b[0;34m,\u001b[0m\u001b[0;34m\u001b[0m\u001b[0m\n\u001b[0;32m---> 86\u001b[0;31m         ctypes.byref(hdl)))\n\u001b[0m\u001b[1;32m     87\u001b[0m     \u001b[0;32mreturn\u001b[0m \u001b[0mhdl\u001b[0m\u001b[0;34m\u001b[0m\u001b[0m\n\u001b[1;32m     88\u001b[0m \u001b[0;34m\u001b[0m\u001b[0m\n",
      "\u001b[0;32m/home/ganta/mxnet/python/mxnet/base.pyc\u001b[0m in \u001b[0;36mcheck_call\u001b[0;34m(ret)\u001b[0m\n\u001b[1;32m     73\u001b[0m     \"\"\"\n\u001b[1;32m     74\u001b[0m     \u001b[0;32mif\u001b[0m \u001b[0mret\u001b[0m \u001b[0;34m!=\u001b[0m \u001b[0;36m0\u001b[0m\u001b[0;34m:\u001b[0m\u001b[0;34m\u001b[0m\u001b[0m\n\u001b[0;32m---> 75\u001b[0;31m         \u001b[0;32mraise\u001b[0m \u001b[0mMXNetError\u001b[0m\u001b[0;34m(\u001b[0m\u001b[0mpy_str\u001b[0m\u001b[0;34m(\u001b[0m\u001b[0m_LIB\u001b[0m\u001b[0;34m.\u001b[0m\u001b[0mMXGetLastError\u001b[0m\u001b[0;34m(\u001b[0m\u001b[0;34m)\u001b[0m\u001b[0;34m)\u001b[0m\u001b[0;34m)\u001b[0m\u001b[0;34m\u001b[0m\u001b[0m\n\u001b[0m\u001b[1;32m     76\u001b[0m \u001b[0;34m\u001b[0m\u001b[0m\n\u001b[1;32m     77\u001b[0m \u001b[0;32mif\u001b[0m \u001b[0msys\u001b[0m\u001b[0;34m.\u001b[0m\u001b[0mversion_info\u001b[0m\u001b[0;34m[\u001b[0m\u001b[0;36m0\u001b[0m\u001b[0;34m]\u001b[0m \u001b[0;34m<\u001b[0m \u001b[0;36m3\u001b[0m\u001b[0;34m:\u001b[0m\u001b[0;34m\u001b[0m\u001b[0m\n",
      "\u001b[0;31mMXNetError\u001b[0m: [15:09:08] src/storage/storage.cc:78: Compile with USE_CUDA=1 to enable GPU usage\n\nStack trace returned 95 entries:\n[bt] (0) /home/ganta/mxnet/python/mxnet/../../lib/libmxnet.so(+0xc63fac) [0x7fef9c7f1fac]\n[bt] (1) /home/ganta/mxnet/python/mxnet/../../lib/libmxnet.so(+0xc65917) [0x7fef9c7f3917]\n[bt] (2) /home/ganta/mxnet/python/mxnet/../../lib/libmxnet.so(_ZN5mxnet11StorageImpl5AllocEmNS_7ContextE+0x4f) [0x7fef9c7f57cf]\n[bt] (3) /home/ganta/mxnet/python/mxnet/../../lib/libmxnet.so(MXNDArrayCreateEx+0x530) [0x7fef9c83ecb0]\n[bt] (4) /usr/lib/x86_64-linux-gnu/libffi.so.6(ffi_call_unix64+0x4c) [0x7fefc86cde40]\n[bt] (5) /usr/lib/x86_64-linux-gnu/libffi.so.6(ffi_call+0x2eb) [0x7fefc86cd8ab]\n[bt] (6) /usr/lib/python2.7/lib-dynload/_ctypes.x86_64-linux-gnu.so(_ctypes_callproc+0x48f) [0x7fefc891e3df]\n[bt] (7) /usr/lib/python2.7/lib-dynload/_ctypes.x86_64-linux-gnu.so(+0x11d82) [0x7fefc8922d82]\n[bt] (8) /usr/bin/python(PyObject_Call+0x43) [0x4b0cb3]\n[bt] (9) /usr/bin/python(PyEval_EvalFrameEx+0x5faf) [0x4c9faf]\n[bt] (10) /usr/bin/python(PyEval_EvalCodeEx+0x255) [0x4c2765]\n[bt] (11) /usr/bin/python(PyEval_EvalFrameEx+0x6099) [0x4ca099]\n[bt] (12) /usr/bin/python(PyEval_EvalCodeEx+0x255) [0x4c2765]\n[bt] (13) /usr/bin/python(PyEval_EvalFrameEx+0x6099) [0x4ca099]\n[bt] (14) /usr/bin/python(PyEval_EvalCodeEx+0x255) [0x4c2765]\n[bt] (15) /usr/bin/python(PyEval_EvalFrameEx+0x6099) [0x4ca099]\n[bt] (16) /usr/bin/python(PyEval_EvalCodeEx+0x255) [0x4c2765]\n[bt] (17) /usr/bin/python(PyEval_EvalFrameEx+0x6099) [0x4ca099]\n[bt] (18) /usr/bin/python(PyEval_EvalCodeEx+0x255) [0x4c2765]\n[bt] (19) /usr/bin/python() [0x4de6fe]\n[bt] (20) /usr/bin/python(PyObject_Call+0x43) [0x4b0cb3]\n[bt] (21) /usr/bin/python() [0x4f492e]\n[bt] (22) /usr/bin/python(PyObject_Call+0x43) [0x4b0cb3]\n[bt] (23) /usr/bin/python() [0x4f46a7]\n[bt] (24) /usr/bin/python() [0x4b670c]\n[bt] (25) /usr/bin/python(PyObject_Call+0x43) [0x4b0cb3]\n[bt] (26) /usr/bin/python(PyEval_EvalFrameEx+0x5faf) [0x4c9faf]\n[bt] (27) /usr/bin/python(PyEval_EvalCodeEx+0x255) [0x4c2765]\n[bt] (28) /usr/bin/python() [0x4de8b8]\n[bt] (29) /usr/bin/python(PyObject_Call+0x43) [0x4b0cb3]\n[bt] (30) /usr/bin/python() [0x4f492e]\n[bt] (31) /usr/bin/python(PyObject_Call+0x43) [0x4b0cb3]\n[bt] (32) /usr/bin/python() [0x4f46a7]\n[bt] (33) /usr/bin/python() [0x4b670c]\n[bt] (34) /usr/bin/python(PyObject_Call+0x43) [0x4b0cb3]\n[bt] (35) /usr/bin/python(PyEval_EvalFrameEx+0x5faf) [0x4c9faf]\n[bt] (36) /usr/bin/python(PyEval_EvalCodeEx+0x255) [0x4c2765]\n[bt] (37) /usr/bin/python(PyEval_EvalFrameEx+0x6099) [0x4ca099]\n[bt] (38) /usr/bin/python(PyEval_EvalCodeEx+0x255) [0x4c2765]\n[bt] (39) /usr/bin/python(PyEval_EvalFrameEx+0x6099) [0x4ca099]\n[bt] (40) /usr/bin/python(PyEval_EvalCodeEx+0x255) [0x4c2765]\n[bt] (41) /usr/bin/python(PyEval_EvalFrameEx+0x44db) [0x4c84db]\n[bt] (42) /usr/bin/python(PyEval_EvalCodeEx+0x255) [0x4c2765]\n[bt] (43) /usr/bin/python(PyEval_EvalFrameEx+0x6099) [0x4ca099]\n[bt] (44) /usr/bin/python(PyEval_EvalCodeEx+0x255) [0x4c2765]\n[bt] (45) /usr/bin/python(PyEval_EvalFrameEx+0x6099) [0x4ca099]\n[bt] (46) /usr/bin/python(PyEval_EvalCodeEx+0x255) [0x4c2765]\n[bt] (47) /usr/bin/python() [0x4de8b8]\n[bt] (48) /usr/bin/python(PyObject_Call+0x43) [0x4b0cb3]\n[bt] (49) /usr/bin/python(PyEval_EvalFrameEx+0x2ad1) [0x4c6ad1]\n[bt] (50) /usr/bin/python(PyEval_EvalCodeEx+0x255) [0x4c2765]\n[bt] (51) /usr/bin/python(PyEval_EvalFrameEx+0x68d1) [0x4ca8d1]\n[bt] (52) /usr/bin/python(PyEval_EvalCodeEx+0x255) [0x4c2765]\n[bt] (53) /usr/bin/python(PyEval_EvalFrameEx+0x6099) [0x4ca099]\n[bt] (54) /usr/bin/python(PyEval_EvalCodeEx+0x255) [0x4c2765]\n[bt] (55) /usr/bin/python(PyEval_EvalFrameEx+0x68d1) [0x4ca8d1]\n[bt] (56) /usr/bin/python(PyEval_EvalCodeEx+0x255) [0x4c2765]\n[bt] (57) /usr/bin/python(PyEval_EvalFrameEx+0x68d1) [0x4ca8d1]\n[bt] (58) /usr/bin/python(PyEval_EvalCodeEx+0x255) [0x4c2765]\n[bt] (59) /usr/bin/python() [0x4de8b8]\n[bt] (60) /usr/bin/python(PyObject_Call+0x43) [0x4b0cb3]\n[bt] (61) /usr/bin/python(PyEval_EvalFrameEx+0x2ad1) [0x4c6ad1]\n[bt] (62) /usr/bin/python(PyEval_EvalCodeEx+0x255) [0x4c2765]\n[bt] (63) /usr/bin/python() [0x4de8b8]\n[bt] (64) /usr/bin/python(PyObject_Call+0x43) [0x4b0cb3]\n[bt] (65) /usr/bin/python(PyEval_EvalFrameEx+0x2ad1) [0x4c6ad1]\n[bt] (66) /usr/bin/python(PyEval_EvalCodeEx+0x255) [0x4c2765]\n[bt] (67) /usr/bin/python(PyEval_EvalFrameEx+0x68d1) [0x4ca8d1]\n[bt] (68) /usr/bin/python(PyEval_EvalCodeEx+0x255) [0x4c2765]\n[bt] (69) /usr/bin/python(PyEval_EvalFrameEx+0x68d1) [0x4ca8d1]\n[bt] (70) /usr/bin/python(PyEval_EvalCodeEx+0x255) [0x4c2765]\n[bt] (71) /usr/bin/python() [0x4de8b8]\n[bt] (72) /usr/bin/python(PyObject_Call+0x43) [0x4b0cb3]\n[bt] (73) /usr/bin/python(PyEval_EvalFrameEx+0x2ad1) [0x4c6ad1]\n[bt] (74) /usr/bin/python(PyEval_EvalCodeEx+0x255) [0x4c2765]\n[bt] (75) /usr/bin/python(PyEval_EvalFrameEx+0x68d1) [0x4ca8d1]\n[bt] (76) /usr/bin/python(PyEval_EvalCodeEx+0x255) [0x4c2765]\n[bt] (77) /usr/bin/python(PyEval_EvalFrameEx+0x68d1) [0x4ca8d1]\n[bt] (78) /usr/bin/python(PyEval_EvalCodeEx+0x255) [0x4c2765]\n[bt] (79) /usr/bin/python(PyEval_EvalFrameEx+0x68d1) [0x4ca8d1]\n[bt] (80) /usr/bin/python(PyEval_EvalCodeEx+0x255) [0x4c2765]\n[bt] (81) /usr/bin/python(PyEval_EvalFrameEx+0x68d1) [0x4ca8d1]\n[bt] (82) /usr/bin/python(PyEval_EvalCodeEx+0x255) [0x4c2765]\n[bt] (83) /usr/bin/python(PyEval_EvalFrameEx+0x6099) [0x4ca099]\n[bt] (84) /usr/bin/python(PyEval_EvalCodeEx+0x255) [0x4c2765]\n[bt] (85) /usr/bin/python(PyEval_EvalFrameEx+0x44db) [0x4c84db]\n[bt] (86) /usr/bin/python(PyEval_EvalCodeEx+0x255) [0x4c2765]\n[bt] (87) /usr/bin/python(PyEval_EvalFrameEx+0x6099) [0x4ca099]\n[bt] (88) /usr/bin/python(PyEval_EvalCodeEx+0x255) [0x4c2765]\n[bt] (89) /usr/bin/python() [0x4de6fe]\n[bt] (90) /usr/bin/python(PyObject_Call+0x43) [0x4b0cb3]\n[bt] (91) /usr/bin/python() [0x521eec]\n[bt] (92) /usr/bin/python(Py_Main+0x6c8) [0x49e188]\n[bt] (93) /lib/x86_64-linux-gnu/libc.so.6(__libc_start_main+0xf0) [0x7fefca778830]\n[bt] (94) /usr/bin/python(_start+0x29) [0x49d9d9]\n"
     ]
    }
   ],
   "source": [
    "# Output may vary\n",
    "model = mx.model.FeedForward(\n",
    "    ctx = mx.gpu(0),     # use GPU 0 for training, others are same as before\n",
    "    symbol = lenet,       \n",
    "    num_epoch = 10,     \n",
    "    learning_rate = 0.1)\n",
    "model.fit(\n",
    "    X=train_iter,  \n",
    "    eval_data=val_iter, \n",
    "    batch_end_callback = mx.callback.Speedometer(batch_size, 200)\n",
    ") \n",
    "assert model.score(val_iter) > 0.98, \"Low validation accuracy.\""
   ]
  },
  {
   "cell_type": "markdown",
   "metadata": {},
   "source": [
    "Note that, with the same hyper-parameters, LeNet achieves 98.7% validation accuracy, which improves on the previous multilayer perceptron accuracy of 96.6%."
   ]
  },
  {
   "cell_type": "markdown",
   "metadata": {
    "collapsed": true
   },
   "source": [
    "After training is done on the CNN model, like we did with the perceptron, we can now predict a single image. "
   ]
  },
  {
   "cell_type": "code",
   "execution_count": 37,
   "metadata": {
    "collapsed": false,
    "scrolled": false
   },
   "outputs": [
    {
     "data": {
      "image/png": "[encoded data removed]",
      "text/plain": [
       "<matplotlib.figure.Figure at 0x7fef6c231850>"
      ]
     },
     "metadata": {},
     "output_type": "display_data"
    },
    {
     "ename": "MXNetError",
     "evalue": "[15:11:03] src/storage/storage.cc:78: Compile with USE_CUDA=1 to enable GPU usage\n\nStack trace returned 79 entries:\n[bt] (0) /home/ganta/mxnet/python/mxnet/../../lib/libmxnet.so(+0xc63fac) [0x7fef9c7f1fac]\n[bt] (1) /home/ganta/mxnet/python/mxnet/../../lib/libmxnet.so(+0xc65917) [0x7fef9c7f3917]\n[bt] (2) /home/ganta/mxnet/python/mxnet/../../lib/libmxnet.so(_ZN5mxnet11StorageImpl5AllocEmNS_7ContextE+0x4f) [0x7fef9c7f57cf]\n[bt] (3) /home/ganta/mxnet/python/mxnet/../../lib/libmxnet.so(MXNDArrayCreateEx+0x530) [0x7fef9c83ecb0]\n[bt] (4) /usr/lib/x86_64-linux-gnu/libffi.so.6(ffi_call_unix64+0x4c) [0x7fefc86cde40]\n[bt] (5) /usr/lib/x86_64-linux-gnu/libffi.so.6(ffi_call+0x2eb) [0x7fefc86cd8ab]\n[bt] (6) /usr/lib/python2.7/lib-dynload/_ctypes.x86_64-linux-gnu.so(_ctypes_callproc+0x48f) [0x7fefc891e3df]\n[bt] (7) /usr/lib/python2.7/lib-dynload/_ctypes.x86_64-linux-gnu.so(+0x11d82) [0x7fefc8922d82]\n[bt] (8) /usr/bin/python(PyObject_Call+0x43) [0x4b0cb3]\n[bt] (9) /usr/bin/python(PyEval_EvalFrameEx+0x5faf) [0x4c9faf]\n[bt] (10) /usr/bin/python(PyEval_EvalCodeEx+0x255) [0x4c2765]\n[bt] (11) /usr/bin/python(PyEval_EvalFrameEx+0x6099) [0x4ca099]\n[bt] (12) /usr/bin/python(PyEval_EvalCodeEx+0x255) [0x4c2765]\n[bt] (13) /usr/bin/python(PyEval_EvalFrameEx+0x6099) [0x4ca099]\n[bt] (14) /usr/bin/python(PyEval_EvalCodeEx+0x255) [0x4c2765]\n[bt] (15) /usr/bin/python(PyEval_EvalFrameEx+0x6099) [0x4ca099]\n[bt] (16) /usr/bin/python(PyEval_EvalCodeEx+0x255) [0x4c2765]\n[bt] (17) /usr/bin/python() [0x4de8b8]\n[bt] (18) /usr/bin/python(PyObject_Call+0x43) [0x4b0cb3]\n[bt] (19) /usr/bin/python(PyEval_EvalFrameEx+0x2ad1) [0x4c6ad1]\n[bt] (20) /usr/bin/python(PyEval_EvalCodeEx+0x255) [0x4c2765]\n[bt] (21) /usr/bin/python(PyEval_EvalFrameEx+0x6099) [0x4ca099]\n[bt] (22) /usr/bin/python(PyEval_EvalCodeEx+0x255) [0x4c2765]\n[bt] (23) /usr/bin/python(PyEval_EvalFrameEx+0x6099) [0x4ca099]\n[bt] (24) /usr/bin/python(PyEval_EvalCodeEx+0x255) [0x4c2765]\n[bt] (25) /usr/bin/python(PyEval_EvalFrameEx+0x44db) [0x4c84db]\n[bt] (26) /usr/bin/python(PyEval_EvalCodeEx+0x255) [0x4c2765]\n[bt] (27) /usr/bin/python(PyEval_EvalFrameEx+0x6099) [0x4ca099]\n[bt] (28) /usr/bin/python(PyEval_EvalCodeEx+0x255) [0x4c2765]\n[bt] (29) /usr/bin/python(PyEval_EvalFrameEx+0x6099) [0x4ca099]\n[bt] (30) /usr/bin/python(PyEval_EvalCodeEx+0x255) [0x4c2765]\n[bt] (31) /usr/bin/python() [0x4de8b8]\n[bt] (32) /usr/bin/python(PyObject_Call+0x43) [0x4b0cb3]\n[bt] (33) /usr/bin/python(PyEval_EvalFrameEx+0x2ad1) [0x4c6ad1]\n[bt] (34) /usr/bin/python(PyEval_EvalCodeEx+0x255) [0x4c2765]\n[bt] (35) /usr/bin/python(PyEval_EvalFrameEx+0x68d1) [0x4ca8d1]\n[bt] (36) /usr/bin/python(PyEval_EvalCodeEx+0x255) [0x4c2765]\n[bt] (37) /usr/bin/python(PyEval_EvalFrameEx+0x6099) [0x4ca099]\n[bt] (38) /usr/bin/python(PyEval_EvalCodeEx+0x255) [0x4c2765]\n[bt] (39) /usr/bin/python(PyEval_EvalFrameEx+0x68d1) [0x4ca8d1]\n[bt] (40) /usr/bin/python(PyEval_EvalCodeEx+0x255) [0x4c2765]\n[bt] (41) /usr/bin/python(PyEval_EvalFrameEx+0x68d1) [0x4ca8d1]\n[bt] (42) /usr/bin/python(PyEval_EvalCodeEx+0x255) [0x4c2765]\n[bt] (43) /usr/bin/python() [0x4de8b8]\n[bt] (44) /usr/bin/python(PyObject_Call+0x43) [0x4b0cb3]\n[bt] (45) /usr/bin/python(PyEval_EvalFrameEx+0x2ad1) [0x4c6ad1]\n[bt] (46) /usr/bin/python(PyEval_EvalCodeEx+0x255) [0x4c2765]\n[bt] (47) /usr/bin/python() [0x4de8b8]\n[bt] (48) /usr/bin/python(PyObject_Call+0x43) [0x4b0cb3]\n[bt] (49) /usr/bin/python(PyEval_EvalFrameEx+0x2ad1) [0x4c6ad1]\n[bt] (50) /usr/bin/python(PyEval_EvalCodeEx+0x255) [0x4c2765]\n[bt] (51) /usr/bin/python(PyEval_EvalFrameEx+0x68d1) [0x4ca8d1]\n[bt] (52) /usr/bin/python(PyEval_EvalCodeEx+0x255) [0x4c2765]\n[bt] (53) /usr/bin/python(PyEval_EvalFrameEx+0x68d1) [0x4ca8d1]\n[bt] (54) /usr/bin/python(PyEval_EvalCodeEx+0x255) [0x4c2765]\n[bt] (55) /usr/bin/python() [0x4de8b8]\n[bt] (56) /usr/bin/python(PyObject_Call+0x43) [0x4b0cb3]\n[bt] (57) /usr/bin/python(PyEval_EvalFrameEx+0x2ad1) [0x4c6ad1]\n[bt] (58) /usr/bin/python(PyEval_EvalCodeEx+0x255) [0x4c2765]\n[bt] (59) /usr/bin/python(PyEval_EvalFrameEx+0x68d1) [0x4ca8d1]\n[bt] (60) /usr/bin/python(PyEval_EvalCodeEx+0x255) [0x4c2765]\n[bt] (61) /usr/bin/python(PyEval_EvalFrameEx+0x68d1) [0x4ca8d1]\n[bt] (62) /usr/bin/python(PyEval_EvalCodeEx+0x255) [0x4c2765]\n[bt] (63) /usr/bin/python(PyEval_EvalFrameEx+0x68d1) [0x4ca8d1]\n[bt] (64) /usr/bin/python(PyEval_EvalCodeEx+0x255) [0x4c2765]\n[bt] (65) /usr/bin/python(PyEval_EvalFrameEx+0x68d1) [0x4ca8d1]\n[bt] (66) /usr/bin/python(PyEval_EvalCodeEx+0x255) [0x4c2765]\n[bt] (67) /usr/bin/python(PyEval_EvalFrameEx+0x6099) [0x4ca099]\n[bt] (68) /usr/bin/python(PyEval_EvalCodeEx+0x255) [0x4c2765]\n[bt] (69) /usr/bin/python(PyEval_EvalFrameEx+0x44db) [0x4c84db]\n[bt] (70) /usr/bin/python(PyEval_EvalCodeEx+0x255) [0x4c2765]\n[bt] (71) /usr/bin/python(PyEval_EvalFrameEx+0x6099) [0x4ca099]\n[bt] (72) /usr/bin/python(PyEval_EvalCodeEx+0x255) [0x4c2765]\n[bt] (73) /usr/bin/python() [0x4de6fe]\n[bt] (74) /usr/bin/python(PyObject_Call+0x43) [0x4b0cb3]\n[bt] (75) /usr/bin/python() [0x521eec]\n[bt] (76) /usr/bin/python(Py_Main+0x6c8) [0x49e188]\n[bt] (77) /lib/x86_64-linux-gnu/libc.so.6(__libc_start_main+0xf0) [0x7fefca778830]\n[bt] (78) /usr/bin/python(_start+0x29) [0x49d9d9]\n",
     "output_type": "error",
     "traceback": [
      "\u001b[0;31m---------------------------------------------------------------------------\u001b[0m",
      "\u001b[0;31mMXNetError\u001b[0m                                Traceback (most recent call last)",
      "\u001b[0;32m<ipython-input-37-ed76d9711a6d>\u001b[0m in \u001b[0;36m<module>\u001b[0;34m()\u001b[0m\n\u001b[1;32m      2\u001b[0m \u001b[0mplt\u001b[0m\u001b[0;34m.\u001b[0m\u001b[0maxis\u001b[0m\u001b[0;34m(\u001b[0m\u001b[0;34m'off'\u001b[0m\u001b[0;34m)\u001b[0m\u001b[0;34m\u001b[0m\u001b[0m\n\u001b[1;32m      3\u001b[0m \u001b[0mplt\u001b[0m\u001b[0;34m.\u001b[0m\u001b[0mshow\u001b[0m\u001b[0;34m(\u001b[0m\u001b[0;34m)\u001b[0m\u001b[0;34m\u001b[0m\u001b[0m\n\u001b[0;32m----> 4\u001b[0;31m \u001b[0mprob\u001b[0m \u001b[0;34m=\u001b[0m \u001b[0mmodel\u001b[0m\u001b[0;34m.\u001b[0m\u001b[0mpredict\u001b[0m\u001b[0;34m(\u001b[0m\u001b[0mto4d\u001b[0m\u001b[0;34m(\u001b[0m\u001b[0mval_img\u001b[0m\u001b[0;34m[\u001b[0m\u001b[0;36m0\u001b[0m\u001b[0;34m:\u001b[0m\u001b[0;36m1\u001b[0m\u001b[0;34m]\u001b[0m\u001b[0;34m)\u001b[0m\u001b[0;34m)\u001b[0m\u001b[0;34m[\u001b[0m\u001b[0;36m0\u001b[0m\u001b[0;34m]\u001b[0m\u001b[0;34m\u001b[0m\u001b[0m\n\u001b[0m\u001b[1;32m      5\u001b[0m \u001b[0;32mprint\u001b[0m \u001b[0;34m'Classified as %d with probability %f'\u001b[0m \u001b[0;34m%\u001b[0m \u001b[0;34m(\u001b[0m\u001b[0mprob\u001b[0m\u001b[0;34m.\u001b[0m\u001b[0margmax\u001b[0m\u001b[0;34m(\u001b[0m\u001b[0;34m)\u001b[0m\u001b[0;34m,\u001b[0m \u001b[0mmax\u001b[0m\u001b[0;34m(\u001b[0m\u001b[0mprob\u001b[0m\u001b[0;34m)\u001b[0m\u001b[0;34m)\u001b[0m\u001b[0;34m\u001b[0m\u001b[0m\n",
      "\u001b[0;32m/home/ganta/mxnet/python/mxnet/model.pyc\u001b[0m in \u001b[0;36mpredict\u001b[0;34m(self, X, num_batch, return_data, reset)\u001b[0m\n\u001b[1;32m    619\u001b[0m                 \u001b[0mtype_dict\u001b[0m\u001b[0;34m[\u001b[0m\u001b[0mx\u001b[0m\u001b[0;34m[\u001b[0m\u001b[0;36m0\u001b[0m\u001b[0;34m]\u001b[0m\u001b[0;34m]\u001b[0m \u001b[0;34m=\u001b[0m \u001b[0mmx_real_t\u001b[0m\u001b[0;34m\u001b[0m\u001b[0m\n\u001b[1;32m    620\u001b[0m \u001b[0;34m\u001b[0m\u001b[0m\n\u001b[0;32m--> 621\u001b[0;31m         \u001b[0mself\u001b[0m\u001b[0;34m.\u001b[0m\u001b[0m_init_predictor\u001b[0m\u001b[0;34m(\u001b[0m\u001b[0mdata_shapes\u001b[0m\u001b[0;34m,\u001b[0m \u001b[0mtype_dict\u001b[0m\u001b[0;34m)\u001b[0m\u001b[0;34m\u001b[0m\u001b[0m\n\u001b[0m\u001b[1;32m    622\u001b[0m         \u001b[0mbatch_size\u001b[0m \u001b[0;34m=\u001b[0m \u001b[0mX\u001b[0m\u001b[0;34m.\u001b[0m\u001b[0mbatch_size\u001b[0m\u001b[0;34m\u001b[0m\u001b[0m\n\u001b[1;32m    623\u001b[0m         \u001b[0mdata_arrays\u001b[0m \u001b[0;34m=\u001b[0m \u001b[0;34m[\u001b[0m\u001b[0mself\u001b[0m\u001b[0;34m.\u001b[0m\u001b[0m_pred_exec\u001b[0m\u001b[0;34m.\u001b[0m\u001b[0marg_dict\u001b[0m\u001b[0;34m[\u001b[0m\u001b[0mname\u001b[0m\u001b[0;34m]\u001b[0m \u001b[0;32mfor\u001b[0m \u001b[0mname\u001b[0m \u001b[0;32min\u001b[0m \u001b[0mdata_names\u001b[0m\u001b[0;34m]\u001b[0m\u001b[0;34m\u001b[0m\u001b[0m\n",
      "\u001b[0;32m/home/ganta/mxnet/python/mxnet/model.pyc\u001b[0m in \u001b[0;36m_init_predictor\u001b[0;34m(self, input_shapes, type_dict)\u001b[0m\n\u001b[1;32m    542\u001b[0m         \u001b[0;31m# for now only use the first device\u001b[0m\u001b[0;34m\u001b[0m\u001b[0;34m\u001b[0m\u001b[0m\n\u001b[1;32m    543\u001b[0m         pred_exec = self.symbol.simple_bind(\n\u001b[0;32m--> 544\u001b[0;31m             self.ctx[0], grad_req='null', type_dict=type_dict, **dict(input_shapes))\n\u001b[0m\u001b[1;32m    545\u001b[0m         \u001b[0mpred_exec\u001b[0m\u001b[0;34m.\u001b[0m\u001b[0mcopy_params_from\u001b[0m\u001b[0;34m(\u001b[0m\u001b[0mself\u001b[0m\u001b[0;34m.\u001b[0m\u001b[0marg_params\u001b[0m\u001b[0;34m,\u001b[0m \u001b[0mself\u001b[0m\u001b[0;34m.\u001b[0m\u001b[0maux_params\u001b[0m\u001b[0;34m)\u001b[0m\u001b[0;34m\u001b[0m\u001b[0m\n\u001b[1;32m    546\u001b[0m \u001b[0;34m\u001b[0m\u001b[0m\n",
      "\u001b[0;32m/home/ganta/mxnet/python/mxnet/symbol.pyc\u001b[0m in \u001b[0;36msimple_bind\u001b[0;34m(self, ctx, grad_req, type_dict, group2ctx, **kwargs)\u001b[0m\n\u001b[1;32m    779\u001b[0m         arg_ndarrays = [\n\u001b[1;32m    780\u001b[0m             \u001b[0m_nd_zeros\u001b[0m\u001b[0;34m(\u001b[0m\u001b[0mshape\u001b[0m\u001b[0;34m,\u001b[0m \u001b[0mdev\u001b[0m\u001b[0;34m,\u001b[0m \u001b[0mdtype\u001b[0m\u001b[0;34m=\u001b[0m\u001b[0mdtype\u001b[0m\u001b[0;34m)\u001b[0m\u001b[0;34m\u001b[0m\u001b[0m\n\u001b[0;32m--> 781\u001b[0;31m             for dtype, dev, shape in zip(arg_types, arg_ctx, arg_shapes)]\n\u001b[0m\u001b[1;32m    782\u001b[0m         \u001b[0;32mif\u001b[0m \u001b[0mgrad_req\u001b[0m \u001b[0;34m!=\u001b[0m \u001b[0;34m'null'\u001b[0m\u001b[0;34m:\u001b[0m\u001b[0;34m\u001b[0m\u001b[0m\n\u001b[1;32m    783\u001b[0m             \u001b[0mgrad_ndarrays\u001b[0m \u001b[0;34m=\u001b[0m \u001b[0;34m{\u001b[0m\u001b[0;34m}\u001b[0m\u001b[0;34m\u001b[0m\u001b[0m\n",
      "\u001b[0;32m/home/ganta/mxnet/python/mxnet/ndarray.pyc\u001b[0m in \u001b[0;36mzeros\u001b[0;34m(shape, ctx, dtype)\u001b[0m\n\u001b[1;32m   1050\u001b[0m         \u001b[0mThe\u001b[0m \u001b[0mcreated\u001b[0m \u001b[0mNDArray\u001b[0m\u001b[0;34m.\u001b[0m\u001b[0;34m\u001b[0m\u001b[0m\n\u001b[1;32m   1051\u001b[0m     \"\"\"\n\u001b[0;32m-> 1052\u001b[0;31m     \u001b[0marr\u001b[0m \u001b[0;34m=\u001b[0m \u001b[0mempty\u001b[0m\u001b[0;34m(\u001b[0m\u001b[0mshape\u001b[0m\u001b[0;34m,\u001b[0m \u001b[0mctx\u001b[0m\u001b[0;34m,\u001b[0m \u001b[0mdtype\u001b[0m\u001b[0;34m)\u001b[0m\u001b[0;34m\u001b[0m\u001b[0m\n\u001b[0m\u001b[1;32m   1053\u001b[0m     \u001b[0marr\u001b[0m\u001b[0;34m[\u001b[0m\u001b[0;34m:\u001b[0m\u001b[0;34m]\u001b[0m \u001b[0;34m=\u001b[0m \u001b[0;36m0.0\u001b[0m\u001b[0;34m\u001b[0m\u001b[0m\n\u001b[1;32m   1054\u001b[0m     \u001b[0;32mreturn\u001b[0m \u001b[0marr\u001b[0m\u001b[0;34m\u001b[0m\u001b[0m\n",
      "\u001b[0;32m/home/ganta/mxnet/python/mxnet/ndarray.pyc\u001b[0m in \u001b[0;36mempty\u001b[0;34m(shape, ctx, dtype)\u001b[0m\n\u001b[1;32m    636\u001b[0m     \u001b[0;32mif\u001b[0m \u001b[0mctx\u001b[0m \u001b[0;32mis\u001b[0m \u001b[0mNone\u001b[0m\u001b[0;34m:\u001b[0m\u001b[0;34m\u001b[0m\u001b[0m\n\u001b[1;32m    637\u001b[0m         \u001b[0mctx\u001b[0m \u001b[0;34m=\u001b[0m \u001b[0mContext\u001b[0m\u001b[0;34m.\u001b[0m\u001b[0mdefault_ctx\u001b[0m\u001b[0;34m\u001b[0m\u001b[0m\n\u001b[0;32m--> 638\u001b[0;31m     \u001b[0;32mreturn\u001b[0m \u001b[0mNDArray\u001b[0m\u001b[0;34m(\u001b[0m\u001b[0mhandle\u001b[0m\u001b[0;34m=\u001b[0m\u001b[0m_new_alloc_handle\u001b[0m\u001b[0;34m(\u001b[0m\u001b[0mshape\u001b[0m\u001b[0;34m,\u001b[0m \u001b[0mctx\u001b[0m\u001b[0;34m,\u001b[0m \u001b[0mFalse\u001b[0m\u001b[0;34m,\u001b[0m \u001b[0mdtype\u001b[0m\u001b[0;34m)\u001b[0m\u001b[0;34m)\u001b[0m\u001b[0;34m\u001b[0m\u001b[0m\n\u001b[0m\u001b[1;32m    639\u001b[0m \u001b[0;34m\u001b[0m\u001b[0m\n\u001b[1;32m    640\u001b[0m \u001b[0;31m#pylint: disable= too-many-arguments, no-member, protected-access\u001b[0m\u001b[0;34m\u001b[0m\u001b[0;34m\u001b[0m\u001b[0m\n",
      "\u001b[0;32m/home/ganta/mxnet/python/mxnet/ndarray.pyc\u001b[0m in \u001b[0;36m_new_alloc_handle\u001b[0;34m(shape, ctx, delay_alloc, dtype)\u001b[0m\n\u001b[1;32m     84\u001b[0m         \u001b[0mctypes\u001b[0m\u001b[0;34m.\u001b[0m\u001b[0mc_int\u001b[0m\u001b[0;34m(\u001b[0m\u001b[0mint\u001b[0m\u001b[0;34m(\u001b[0m\u001b[0mdelay_alloc\u001b[0m\u001b[0;34m)\u001b[0m\u001b[0;34m)\u001b[0m\u001b[0;34m,\u001b[0m\u001b[0;34m\u001b[0m\u001b[0m\n\u001b[1;32m     85\u001b[0m         \u001b[0mctypes\u001b[0m\u001b[0;34m.\u001b[0m\u001b[0mc_int\u001b[0m\u001b[0;34m(\u001b[0m\u001b[0mint\u001b[0m\u001b[0;34m(\u001b[0m\u001b[0m_DTYPE_NP_TO_MX\u001b[0m\u001b[0;34m[\u001b[0m\u001b[0mnp\u001b[0m\u001b[0;34m.\u001b[0m\u001b[0mdtype\u001b[0m\u001b[0;34m(\u001b[0m\u001b[0mdtype\u001b[0m\u001b[0;34m)\u001b[0m\u001b[0;34m.\u001b[0m\u001b[0mtype\u001b[0m\u001b[0;34m]\u001b[0m\u001b[0;34m)\u001b[0m\u001b[0;34m)\u001b[0m\u001b[0;34m,\u001b[0m\u001b[0;34m\u001b[0m\u001b[0m\n\u001b[0;32m---> 86\u001b[0;31m         ctypes.byref(hdl)))\n\u001b[0m\u001b[1;32m     87\u001b[0m     \u001b[0;32mreturn\u001b[0m \u001b[0mhdl\u001b[0m\u001b[0;34m\u001b[0m\u001b[0m\n\u001b[1;32m     88\u001b[0m \u001b[0;34m\u001b[0m\u001b[0m\n",
      "\u001b[0;32m/home/ganta/mxnet/python/mxnet/base.pyc\u001b[0m in \u001b[0;36mcheck_call\u001b[0;34m(ret)\u001b[0m\n\u001b[1;32m     73\u001b[0m     \"\"\"\n\u001b[1;32m     74\u001b[0m     \u001b[0;32mif\u001b[0m \u001b[0mret\u001b[0m \u001b[0;34m!=\u001b[0m \u001b[0;36m0\u001b[0m\u001b[0;34m:\u001b[0m\u001b[0;34m\u001b[0m\u001b[0m\n\u001b[0;32m---> 75\u001b[0;31m         \u001b[0;32mraise\u001b[0m \u001b[0mMXNetError\u001b[0m\u001b[0;34m(\u001b[0m\u001b[0mpy_str\u001b[0m\u001b[0;34m(\u001b[0m\u001b[0m_LIB\u001b[0m\u001b[0;34m.\u001b[0m\u001b[0mMXGetLastError\u001b[0m\u001b[0;34m(\u001b[0m\u001b[0;34m)\u001b[0m\u001b[0;34m)\u001b[0m\u001b[0;34m)\u001b[0m\u001b[0;34m\u001b[0m\u001b[0m\n\u001b[0m\u001b[1;32m     76\u001b[0m \u001b[0;34m\u001b[0m\u001b[0m\n\u001b[1;32m     77\u001b[0m \u001b[0;32mif\u001b[0m \u001b[0msys\u001b[0m\u001b[0;34m.\u001b[0m\u001b[0mversion_info\u001b[0m\u001b[0;34m[\u001b[0m\u001b[0;36m0\u001b[0m\u001b[0;34m]\u001b[0m \u001b[0;34m<\u001b[0m \u001b[0;36m3\u001b[0m\u001b[0;34m:\u001b[0m\u001b[0;34m\u001b[0m\u001b[0m\n",
      "\u001b[0;31mMXNetError\u001b[0m: [15:11:03] src/storage/storage.cc:78: Compile with USE_CUDA=1 to enable GPU usage\n\nStack trace returned 79 entries:\n[bt] (0) /home/ganta/mxnet/python/mxnet/../../lib/libmxnet.so(+0xc63fac) [0x7fef9c7f1fac]\n[bt] (1) /home/ganta/mxnet/python/mxnet/../../lib/libmxnet.so(+0xc65917) [0x7fef9c7f3917]\n[bt] (2) /home/ganta/mxnet/python/mxnet/../../lib/libmxnet.so(_ZN5mxnet11StorageImpl5AllocEmNS_7ContextE+0x4f) [0x7fef9c7f57cf]\n[bt] (3) /home/ganta/mxnet/python/mxnet/../../lib/libmxnet.so(MXNDArrayCreateEx+0x530) [0x7fef9c83ecb0]\n[bt] (4) /usr/lib/x86_64-linux-gnu/libffi.so.6(ffi_call_unix64+0x4c) [0x7fefc86cde40]\n[bt] (5) /usr/lib/x86_64-linux-gnu/libffi.so.6(ffi_call+0x2eb) [0x7fefc86cd8ab]\n[bt] (6) /usr/lib/python2.7/lib-dynload/_ctypes.x86_64-linux-gnu.so(_ctypes_callproc+0x48f) [0x7fefc891e3df]\n[bt] (7) /usr/lib/python2.7/lib-dynload/_ctypes.x86_64-linux-gnu.so(+0x11d82) [0x7fefc8922d82]\n[bt] (8) /usr/bin/python(PyObject_Call+0x43) [0x4b0cb3]\n[bt] (9) /usr/bin/python(PyEval_EvalFrameEx+0x5faf) [0x4c9faf]\n[bt] (10) /usr/bin/python(PyEval_EvalCodeEx+0x255) [0x4c2765]\n[bt] (11) /usr/bin/python(PyEval_EvalFrameEx+0x6099) [0x4ca099]\n[bt] (12) /usr/bin/python(PyEval_EvalCodeEx+0x255) [0x4c2765]\n[bt] (13) /usr/bin/python(PyEval_EvalFrameEx+0x6099) [0x4ca099]\n[bt] (14) /usr/bin/python(PyEval_EvalCodeEx+0x255) [0x4c2765]\n[bt] (15) /usr/bin/python(PyEval_EvalFrameEx+0x6099) [0x4ca099]\n[bt] (16) /usr/bin/python(PyEval_EvalCodeEx+0x255) [0x4c2765]\n[bt] (17) /usr/bin/python() [0x4de8b8]\n[bt] (18) /usr/bin/python(PyObject_Call+0x43) [0x4b0cb3]\n[bt] (19) /usr/bin/python(PyEval_EvalFrameEx+0x2ad1) [0x4c6ad1]\n[bt] (20) /usr/bin/python(PyEval_EvalCodeEx+0x255) [0x4c2765]\n[bt] (21) /usr/bin/python(PyEval_EvalFrameEx+0x6099) [0x4ca099]\n[bt] (22) /usr/bin/python(PyEval_EvalCodeEx+0x255) [0x4c2765]\n[bt] (23) /usr/bin/python(PyEval_EvalFrameEx+0x6099) [0x4ca099]\n[bt] (24) /usr/bin/python(PyEval_EvalCodeEx+0x255) [0x4c2765]\n[bt] (25) /usr/bin/python(PyEval_EvalFrameEx+0x44db) [0x4c84db]\n[bt] (26) /usr/bin/python(PyEval_EvalCodeEx+0x255) [0x4c2765]\n[bt] (27) /usr/bin/python(PyEval_EvalFrameEx+0x6099) [0x4ca099]\n[bt] (28) /usr/bin/python(PyEval_EvalCodeEx+0x255) [0x4c2765]\n[bt] (29) /usr/bin/python(PyEval_EvalFrameEx+0x6099) [0x4ca099]\n[bt] (30) /usr/bin/python(PyEval_EvalCodeEx+0x255) [0x4c2765]\n[bt] (31) /usr/bin/python() [0x4de8b8]\n[bt] (32) /usr/bin/python(PyObject_Call+0x43) [0x4b0cb3]\n[bt] (33) /usr/bin/python(PyEval_EvalFrameEx+0x2ad1) [0x4c6ad1]\n[bt] (34) /usr/bin/python(PyEval_EvalCodeEx+0x255) [0x4c2765]\n[bt] (35) /usr/bin/python(PyEval_EvalFrameEx+0x68d1) [0x4ca8d1]\n[bt] (36) /usr/bin/python(PyEval_EvalCodeEx+0x255) [0x4c2765]\n[bt] (37) /usr/bin/python(PyEval_EvalFrameEx+0x6099) [0x4ca099]\n[bt] (38) /usr/bin/python(PyEval_EvalCodeEx+0x255) [0x4c2765]\n[bt] (39) /usr/bin/python(PyEval_EvalFrameEx+0x68d1) [0x4ca8d1]\n[bt] (40) /usr/bin/python(PyEval_EvalCodeEx+0x255) [0x4c2765]\n[bt] (41) /usr/bin/python(PyEval_EvalFrameEx+0x68d1) [0x4ca8d1]\n[bt] (42) /usr/bin/python(PyEval_EvalCodeEx+0x255) [0x4c2765]\n[bt] (43) /usr/bin/python() [0x4de8b8]\n[bt] (44) /usr/bin/python(PyObject_Call+0x43) [0x4b0cb3]\n[bt] (45) /usr/bin/python(PyEval_EvalFrameEx+0x2ad1) [0x4c6ad1]\n[bt] (46) /usr/bin/python(PyEval_EvalCodeEx+0x255) [0x4c2765]\n[bt] (47) /usr/bin/python() [0x4de8b8]\n[bt] (48) /usr/bin/python(PyObject_Call+0x43) [0x4b0cb3]\n[bt] (49) /usr/bin/python(PyEval_EvalFrameEx+0x2ad1) [0x4c6ad1]\n[bt] (50) /usr/bin/python(PyEval_EvalCodeEx+0x255) [0x4c2765]\n[bt] (51) /usr/bin/python(PyEval_EvalFrameEx+0x68d1) [0x4ca8d1]\n[bt] (52) /usr/bin/python(PyEval_EvalCodeEx+0x255) [0x4c2765]\n[bt] (53) /usr/bin/python(PyEval_EvalFrameEx+0x68d1) [0x4ca8d1]\n[bt] (54) /usr/bin/python(PyEval_EvalCodeEx+0x255) [0x4c2765]\n[bt] (55) /usr/bin/python() [0x4de8b8]\n[bt] (56) /usr/bin/python(PyObject_Call+0x43) [0x4b0cb3]\n[bt] (57) /usr/bin/python(PyEval_EvalFrameEx+0x2ad1) [0x4c6ad1]\n[bt] (58) /usr/bin/python(PyEval_EvalCodeEx+0x255) [0x4c2765]\n[bt] (59) /usr/bin/python(PyEval_EvalFrameEx+0x68d1) [0x4ca8d1]\n[bt] (60) /usr/bin/python(PyEval_EvalCodeEx+0x255) [0x4c2765]\n[bt] (61) /usr/bin/python(PyEval_EvalFrameEx+0x68d1) [0x4ca8d1]\n[bt] (62) /usr/bin/python(PyEval_EvalCodeEx+0x255) [0x4c2765]\n[bt] (63) /usr/bin/python(PyEval_EvalFrameEx+0x68d1) [0x4ca8d1]\n[bt] (64) /usr/bin/python(PyEval_EvalCodeEx+0x255) [0x4c2765]\n[bt] (65) /usr/bin/python(PyEval_EvalFrameEx+0x68d1) [0x4ca8d1]\n[bt] (66) /usr/bin/python(PyEval_EvalCodeEx+0x255) [0x4c2765]\n[bt] (67) /usr/bin/python(PyEval_EvalFrameEx+0x6099) [0x4ca099]\n[bt] (68) /usr/bin/python(PyEval_EvalCodeEx+0x255) [0x4c2765]\n[bt] (69) /usr/bin/python(PyEval_EvalFrameEx+0x44db) [0x4c84db]\n[bt] (70) /usr/bin/python(PyEval_EvalCodeEx+0x255) [0x4c2765]\n[bt] (71) /usr/bin/python(PyEval_EvalFrameEx+0x6099) [0x4ca099]\n[bt] (72) /usr/bin/python(PyEval_EvalCodeEx+0x255) [0x4c2765]\n[bt] (73) /usr/bin/python() [0x4de6fe]\n[bt] (74) /usr/bin/python(PyObject_Call+0x43) [0x4b0cb3]\n[bt] (75) /usr/bin/python() [0x521eec]\n[bt] (76) /usr/bin/python(Py_Main+0x6c8) [0x49e188]\n[bt] (77) /lib/x86_64-linux-gnu/libc.so.6(__libc_start_main+0xf0) [0x7fefca778830]\n[bt] (78) /usr/bin/python(_start+0x29) [0x49d9d9]\n"
     ]
    }
   ],
   "source": [
    "plt.imshow(val_img[0], cmap='Greys_r')\n",
    "plt.axis('off')\n",
    "plt.show()\n",
    "prob = model.predict(to4d(val_img[0:1]))[0]\n",
    "print 'Classified as %d with probability %f' % (prob.argmax(), max(prob))"
   ]
  },
  {
   "cell_type": "markdown",
   "metadata": {},
   "source": [
    "We can also evaluate the accuracy given a data iterator. "
   ]
  },
  {
   "cell_type": "code",
   "execution_count": 36,
   "metadata": {
    "collapsed": false,
    "scrolled": false
   },
   "outputs": [
    {
     "ename": "MXNetError",
     "evalue": "[15:10:38] src/storage/storage.cc:78: Compile with USE_CUDA=1 to enable GPU usage\n\nStack trace returned 79 entries:\n[bt] (0) /home/ganta/mxnet/python/mxnet/../../lib/libmxnet.so(+0xc63fac) [0x7fef9c7f1fac]\n[bt] (1) /home/ganta/mxnet/python/mxnet/../../lib/libmxnet.so(+0xc65917) [0x7fef9c7f3917]\n[bt] (2) /home/ganta/mxnet/python/mxnet/../../lib/libmxnet.so(_ZN5mxnet11StorageImpl5AllocEmNS_7ContextE+0x4f) [0x7fef9c7f57cf]\n[bt] (3) /home/ganta/mxnet/python/mxnet/../../lib/libmxnet.so(MXNDArrayCreateEx+0x530) [0x7fef9c83ecb0]\n[bt] (4) /usr/lib/x86_64-linux-gnu/libffi.so.6(ffi_call_unix64+0x4c) [0x7fefc86cde40]\n[bt] (5) /usr/lib/x86_64-linux-gnu/libffi.so.6(ffi_call+0x2eb) [0x7fefc86cd8ab]\n[bt] (6) /usr/lib/python2.7/lib-dynload/_ctypes.x86_64-linux-gnu.so(_ctypes_callproc+0x48f) [0x7fefc891e3df]\n[bt] (7) /usr/lib/python2.7/lib-dynload/_ctypes.x86_64-linux-gnu.so(+0x11d82) [0x7fefc8922d82]\n[bt] (8) /usr/bin/python(PyObject_Call+0x43) [0x4b0cb3]\n[bt] (9) /usr/bin/python(PyEval_EvalFrameEx+0x5faf) [0x4c9faf]\n[bt] (10) /usr/bin/python(PyEval_EvalCodeEx+0x255) [0x4c2765]\n[bt] (11) /usr/bin/python(PyEval_EvalFrameEx+0x6099) [0x4ca099]\n[bt] (12) /usr/bin/python(PyEval_EvalCodeEx+0x255) [0x4c2765]\n[bt] (13) /usr/bin/python(PyEval_EvalFrameEx+0x6099) [0x4ca099]\n[bt] (14) /usr/bin/python(PyEval_EvalCodeEx+0x255) [0x4c2765]\n[bt] (15) /usr/bin/python(PyEval_EvalFrameEx+0x6099) [0x4ca099]\n[bt] (16) /usr/bin/python(PyEval_EvalCodeEx+0x255) [0x4c2765]\n[bt] (17) /usr/bin/python() [0x4de8b8]\n[bt] (18) /usr/bin/python(PyObject_Call+0x43) [0x4b0cb3]\n[bt] (19) /usr/bin/python(PyEval_EvalFrameEx+0x2ad1) [0x4c6ad1]\n[bt] (20) /usr/bin/python(PyEval_EvalCodeEx+0x255) [0x4c2765]\n[bt] (21) /usr/bin/python(PyEval_EvalFrameEx+0x6099) [0x4ca099]\n[bt] (22) /usr/bin/python(PyEval_EvalCodeEx+0x255) [0x4c2765]\n[bt] (23) /usr/bin/python(PyEval_EvalFrameEx+0x6099) [0x4ca099]\n[bt] (24) /usr/bin/python(PyEval_EvalCodeEx+0x255) [0x4c2765]\n[bt] (25) /usr/bin/python(PyEval_EvalFrameEx+0x44db) [0x4c84db]\n[bt] (26) /usr/bin/python(PyEval_EvalCodeEx+0x255) [0x4c2765]\n[bt] (27) /usr/bin/python(PyEval_EvalFrameEx+0x6099) [0x4ca099]\n[bt] (28) /usr/bin/python(PyEval_EvalCodeEx+0x255) [0x4c2765]\n[bt] (29) /usr/bin/python(PyEval_EvalFrameEx+0x6099) [0x4ca099]\n[bt] (30) /usr/bin/python(PyEval_EvalCodeEx+0x255) [0x4c2765]\n[bt] (31) /usr/bin/python() [0x4de8b8]\n[bt] (32) /usr/bin/python(PyObject_Call+0x43) [0x4b0cb3]\n[bt] (33) /usr/bin/python(PyEval_EvalFrameEx+0x2ad1) [0x4c6ad1]\n[bt] (34) /usr/bin/python(PyEval_EvalCodeEx+0x255) [0x4c2765]\n[bt] (35) /usr/bin/python(PyEval_EvalFrameEx+0x68d1) [0x4ca8d1]\n[bt] (36) /usr/bin/python(PyEval_EvalCodeEx+0x255) [0x4c2765]\n[bt] (37) /usr/bin/python(PyEval_EvalFrameEx+0x6099) [0x4ca099]\n[bt] (38) /usr/bin/python(PyEval_EvalCodeEx+0x255) [0x4c2765]\n[bt] (39) /usr/bin/python(PyEval_EvalFrameEx+0x68d1) [0x4ca8d1]\n[bt] (40) /usr/bin/python(PyEval_EvalCodeEx+0x255) [0x4c2765]\n[bt] (41) /usr/bin/python(PyEval_EvalFrameEx+0x68d1) [0x4ca8d1]\n[bt] (42) /usr/bin/python(PyEval_EvalCodeEx+0x255) [0x4c2765]\n[bt] (43) /usr/bin/python() [0x4de8b8]\n[bt] (44) /usr/bin/python(PyObject_Call+0x43) [0x4b0cb3]\n[bt] (45) /usr/bin/python(PyEval_EvalFrameEx+0x2ad1) [0x4c6ad1]\n[bt] (46) /usr/bin/python(PyEval_EvalCodeEx+0x255) [0x4c2765]\n[bt] (47) /usr/bin/python() [0x4de8b8]\n[bt] (48) /usr/bin/python(PyObject_Call+0x43) [0x4b0cb3]\n[bt] (49) /usr/bin/python(PyEval_EvalFrameEx+0x2ad1) [0x4c6ad1]\n[bt] (50) /usr/bin/python(PyEval_EvalCodeEx+0x255) [0x4c2765]\n[bt] (51) /usr/bin/python(PyEval_EvalFrameEx+0x68d1) [0x4ca8d1]\n[bt] (52) /usr/bin/python(PyEval_EvalCodeEx+0x255) [0x4c2765]\n[bt] (53) /usr/bin/python(PyEval_EvalFrameEx+0x68d1) [0x4ca8d1]\n[bt] (54) /usr/bin/python(PyEval_EvalCodeEx+0x255) [0x4c2765]\n[bt] (55) /usr/bin/python() [0x4de8b8]\n[bt] (56) /usr/bin/python(PyObject_Call+0x43) [0x4b0cb3]\n[bt] (57) /usr/bin/python(PyEval_EvalFrameEx+0x2ad1) [0x4c6ad1]\n[bt] (58) /usr/bin/python(PyEval_EvalCodeEx+0x255) [0x4c2765]\n[bt] (59) /usr/bin/python(PyEval_EvalFrameEx+0x68d1) [0x4ca8d1]\n[bt] (60) /usr/bin/python(PyEval_EvalCodeEx+0x255) [0x4c2765]\n[bt] (61) /usr/bin/python(PyEval_EvalFrameEx+0x68d1) [0x4ca8d1]\n[bt] (62) /usr/bin/python(PyEval_EvalCodeEx+0x255) [0x4c2765]\n[bt] (63) /usr/bin/python(PyEval_EvalFrameEx+0x68d1) [0x4ca8d1]\n[bt] (64) /usr/bin/python(PyEval_EvalCodeEx+0x255) [0x4c2765]\n[bt] (65) /usr/bin/python(PyEval_EvalFrameEx+0x68d1) [0x4ca8d1]\n[bt] (66) /usr/bin/python(PyEval_EvalCodeEx+0x255) [0x4c2765]\n[bt] (67) /usr/bin/python(PyEval_EvalFrameEx+0x6099) [0x4ca099]\n[bt] (68) /usr/bin/python(PyEval_EvalCodeEx+0x255) [0x4c2765]\n[bt] (69) /usr/bin/python(PyEval_EvalFrameEx+0x44db) [0x4c84db]\n[bt] (70) /usr/bin/python(PyEval_EvalCodeEx+0x255) [0x4c2765]\n[bt] (71) /usr/bin/python(PyEval_EvalFrameEx+0x6099) [0x4ca099]\n[bt] (72) /usr/bin/python(PyEval_EvalCodeEx+0x255) [0x4c2765]\n[bt] (73) /usr/bin/python() [0x4de6fe]\n[bt] (74) /usr/bin/python(PyObject_Call+0x43) [0x4b0cb3]\n[bt] (75) /usr/bin/python() [0x521eec]\n[bt] (76) /usr/bin/python(Py_Main+0x6c8) [0x49e188]\n[bt] (77) /lib/x86_64-linux-gnu/libc.so.6(__libc_start_main+0xf0) [0x7fefca778830]\n[bt] (78) /usr/bin/python(_start+0x29) [0x49d9d9]\n",
     "output_type": "error",
     "traceback": [
      "\u001b[0;31m---------------------------------------------------------------------------\u001b[0m",
      "\u001b[0;31mMXNetError\u001b[0m                                Traceback (most recent call last)",
      "\u001b[0;32m<ipython-input-36-f7abc4896d58>\u001b[0m in \u001b[0;36m<module>\u001b[0;34m()\u001b[0m\n\u001b[0;32m----> 1\u001b[0;31m \u001b[0;32mprint\u001b[0m \u001b[0;34m'Validation accuracy: %f%%'\u001b[0m \u001b[0;34m%\u001b[0m \u001b[0;34m(\u001b[0m\u001b[0mmodel\u001b[0m\u001b[0;34m.\u001b[0m\u001b[0mscore\u001b[0m\u001b[0;34m(\u001b[0m\u001b[0mval_iter\u001b[0m\u001b[0;34m)\u001b[0m\u001b[0;34m*\u001b[0m\u001b[0;36m100\u001b[0m\u001b[0;34m,\u001b[0m\u001b[0;34m)\u001b[0m\u001b[0;34m\u001b[0m\u001b[0m\n\u001b[0m",
      "\u001b[0;32m/home/ganta/mxnet/python/mxnet/model.pyc\u001b[0m in \u001b[0;36mscore\u001b[0;34m(self, X, eval_metric, num_batch, batch_end_callback, reset)\u001b[0m\n\u001b[1;32m    694\u001b[0m                 \u001b[0mtype_dict\u001b[0m\u001b[0;34m[\u001b[0m\u001b[0mx\u001b[0m\u001b[0;34m[\u001b[0m\u001b[0;36m0\u001b[0m\u001b[0;34m]\u001b[0m\u001b[0;34m]\u001b[0m \u001b[0;34m=\u001b[0m \u001b[0mmx_real_t\u001b[0m\u001b[0;34m\u001b[0m\u001b[0m\n\u001b[1;32m    695\u001b[0m \u001b[0;34m\u001b[0m\u001b[0m\n\u001b[0;32m--> 696\u001b[0;31m         \u001b[0mself\u001b[0m\u001b[0;34m.\u001b[0m\u001b[0m_init_predictor\u001b[0m\u001b[0;34m(\u001b[0m\u001b[0mdata_shapes\u001b[0m\u001b[0;34m,\u001b[0m \u001b[0mtype_dict\u001b[0m\u001b[0;34m)\u001b[0m\u001b[0;34m\u001b[0m\u001b[0m\n\u001b[0m\u001b[1;32m    697\u001b[0m         \u001b[0mdata_arrays\u001b[0m \u001b[0;34m=\u001b[0m \u001b[0;34m[\u001b[0m\u001b[0mself\u001b[0m\u001b[0;34m.\u001b[0m\u001b[0m_pred_exec\u001b[0m\u001b[0;34m.\u001b[0m\u001b[0marg_dict\u001b[0m\u001b[0;34m[\u001b[0m\u001b[0mname\u001b[0m\u001b[0;34m]\u001b[0m \u001b[0;32mfor\u001b[0m \u001b[0mname\u001b[0m \u001b[0;32min\u001b[0m \u001b[0mdata_names\u001b[0m\u001b[0;34m]\u001b[0m\u001b[0;34m\u001b[0m\u001b[0m\n\u001b[1;32m    698\u001b[0m \u001b[0;34m\u001b[0m\u001b[0m\n",
      "\u001b[0;32m/home/ganta/mxnet/python/mxnet/model.pyc\u001b[0m in \u001b[0;36m_init_predictor\u001b[0;34m(self, input_shapes, type_dict)\u001b[0m\n\u001b[1;32m    542\u001b[0m         \u001b[0;31m# for now only use the first device\u001b[0m\u001b[0;34m\u001b[0m\u001b[0;34m\u001b[0m\u001b[0m\n\u001b[1;32m    543\u001b[0m         pred_exec = self.symbol.simple_bind(\n\u001b[0;32m--> 544\u001b[0;31m             self.ctx[0], grad_req='null', type_dict=type_dict, **dict(input_shapes))\n\u001b[0m\u001b[1;32m    545\u001b[0m         \u001b[0mpred_exec\u001b[0m\u001b[0;34m.\u001b[0m\u001b[0mcopy_params_from\u001b[0m\u001b[0;34m(\u001b[0m\u001b[0mself\u001b[0m\u001b[0;34m.\u001b[0m\u001b[0marg_params\u001b[0m\u001b[0;34m,\u001b[0m \u001b[0mself\u001b[0m\u001b[0;34m.\u001b[0m\u001b[0maux_params\u001b[0m\u001b[0;34m)\u001b[0m\u001b[0;34m\u001b[0m\u001b[0m\n\u001b[1;32m    546\u001b[0m \u001b[0;34m\u001b[0m\u001b[0m\n",
      "\u001b[0;32m/home/ganta/mxnet/python/mxnet/symbol.pyc\u001b[0m in \u001b[0;36msimple_bind\u001b[0;34m(self, ctx, grad_req, type_dict, group2ctx, **kwargs)\u001b[0m\n\u001b[1;32m    779\u001b[0m         arg_ndarrays = [\n\u001b[1;32m    780\u001b[0m             \u001b[0m_nd_zeros\u001b[0m\u001b[0;34m(\u001b[0m\u001b[0mshape\u001b[0m\u001b[0;34m,\u001b[0m \u001b[0mdev\u001b[0m\u001b[0;34m,\u001b[0m \u001b[0mdtype\u001b[0m\u001b[0;34m=\u001b[0m\u001b[0mdtype\u001b[0m\u001b[0;34m)\u001b[0m\u001b[0;34m\u001b[0m\u001b[0m\n\u001b[0;32m--> 781\u001b[0;31m             for dtype, dev, shape in zip(arg_types, arg_ctx, arg_shapes)]\n\u001b[0m\u001b[1;32m    782\u001b[0m         \u001b[0;32mif\u001b[0m \u001b[0mgrad_req\u001b[0m \u001b[0;34m!=\u001b[0m \u001b[0;34m'null'\u001b[0m\u001b[0;34m:\u001b[0m\u001b[0;34m\u001b[0m\u001b[0m\n\u001b[1;32m    783\u001b[0m             \u001b[0mgrad_ndarrays\u001b[0m \u001b[0;34m=\u001b[0m \u001b[0;34m{\u001b[0m\u001b[0;34m}\u001b[0m\u001b[0;34m\u001b[0m\u001b[0m\n",
      "\u001b[0;32m/home/ganta/mxnet/python/mxnet/ndarray.pyc\u001b[0m in \u001b[0;36mzeros\u001b[0;34m(shape, ctx, dtype)\u001b[0m\n\u001b[1;32m   1050\u001b[0m         \u001b[0mThe\u001b[0m \u001b[0mcreated\u001b[0m \u001b[0mNDArray\u001b[0m\u001b[0;34m.\u001b[0m\u001b[0;34m\u001b[0m\u001b[0m\n\u001b[1;32m   1051\u001b[0m     \"\"\"\n\u001b[0;32m-> 1052\u001b[0;31m     \u001b[0marr\u001b[0m \u001b[0;34m=\u001b[0m \u001b[0mempty\u001b[0m\u001b[0;34m(\u001b[0m\u001b[0mshape\u001b[0m\u001b[0;34m,\u001b[0m \u001b[0mctx\u001b[0m\u001b[0;34m,\u001b[0m \u001b[0mdtype\u001b[0m\u001b[0;34m)\u001b[0m\u001b[0;34m\u001b[0m\u001b[0m\n\u001b[0m\u001b[1;32m   1053\u001b[0m     \u001b[0marr\u001b[0m\u001b[0;34m[\u001b[0m\u001b[0;34m:\u001b[0m\u001b[0;34m]\u001b[0m \u001b[0;34m=\u001b[0m \u001b[0;36m0.0\u001b[0m\u001b[0;34m\u001b[0m\u001b[0m\n\u001b[1;32m   1054\u001b[0m     \u001b[0;32mreturn\u001b[0m \u001b[0marr\u001b[0m\u001b[0;34m\u001b[0m\u001b[0m\n",
      "\u001b[0;32m/home/ganta/mxnet/python/mxnet/ndarray.pyc\u001b[0m in \u001b[0;36mempty\u001b[0;34m(shape, ctx, dtype)\u001b[0m\n\u001b[1;32m    636\u001b[0m     \u001b[0;32mif\u001b[0m \u001b[0mctx\u001b[0m \u001b[0;32mis\u001b[0m \u001b[0mNone\u001b[0m\u001b[0;34m:\u001b[0m\u001b[0;34m\u001b[0m\u001b[0m\n\u001b[1;32m    637\u001b[0m         \u001b[0mctx\u001b[0m \u001b[0;34m=\u001b[0m \u001b[0mContext\u001b[0m\u001b[0;34m.\u001b[0m\u001b[0mdefault_ctx\u001b[0m\u001b[0;34m\u001b[0m\u001b[0m\n\u001b[0;32m--> 638\u001b[0;31m     \u001b[0;32mreturn\u001b[0m \u001b[0mNDArray\u001b[0m\u001b[0;34m(\u001b[0m\u001b[0mhandle\u001b[0m\u001b[0;34m=\u001b[0m\u001b[0m_new_alloc_handle\u001b[0m\u001b[0;34m(\u001b[0m\u001b[0mshape\u001b[0m\u001b[0;34m,\u001b[0m \u001b[0mctx\u001b[0m\u001b[0;34m,\u001b[0m \u001b[0mFalse\u001b[0m\u001b[0;34m,\u001b[0m \u001b[0mdtype\u001b[0m\u001b[0;34m)\u001b[0m\u001b[0;34m)\u001b[0m\u001b[0;34m\u001b[0m\u001b[0m\n\u001b[0m\u001b[1;32m    639\u001b[0m \u001b[0;34m\u001b[0m\u001b[0m\n\u001b[1;32m    640\u001b[0m \u001b[0;31m#pylint: disable= too-many-arguments, no-member, protected-access\u001b[0m\u001b[0;34m\u001b[0m\u001b[0;34m\u001b[0m\u001b[0m\n",
      "\u001b[0;32m/home/ganta/mxnet/python/mxnet/ndarray.pyc\u001b[0m in \u001b[0;36m_new_alloc_handle\u001b[0;34m(shape, ctx, delay_alloc, dtype)\u001b[0m\n\u001b[1;32m     84\u001b[0m         \u001b[0mctypes\u001b[0m\u001b[0;34m.\u001b[0m\u001b[0mc_int\u001b[0m\u001b[0;34m(\u001b[0m\u001b[0mint\u001b[0m\u001b[0;34m(\u001b[0m\u001b[0mdelay_alloc\u001b[0m\u001b[0;34m)\u001b[0m\u001b[0;34m)\u001b[0m\u001b[0;34m,\u001b[0m\u001b[0;34m\u001b[0m\u001b[0m\n\u001b[1;32m     85\u001b[0m         \u001b[0mctypes\u001b[0m\u001b[0;34m.\u001b[0m\u001b[0mc_int\u001b[0m\u001b[0;34m(\u001b[0m\u001b[0mint\u001b[0m\u001b[0;34m(\u001b[0m\u001b[0m_DTYPE_NP_TO_MX\u001b[0m\u001b[0;34m[\u001b[0m\u001b[0mnp\u001b[0m\u001b[0;34m.\u001b[0m\u001b[0mdtype\u001b[0m\u001b[0;34m(\u001b[0m\u001b[0mdtype\u001b[0m\u001b[0;34m)\u001b[0m\u001b[0;34m.\u001b[0m\u001b[0mtype\u001b[0m\u001b[0;34m]\u001b[0m\u001b[0;34m)\u001b[0m\u001b[0;34m)\u001b[0m\u001b[0;34m,\u001b[0m\u001b[0;34m\u001b[0m\u001b[0m\n\u001b[0;32m---> 86\u001b[0;31m         ctypes.byref(hdl)))\n\u001b[0m\u001b[1;32m     87\u001b[0m     \u001b[0;32mreturn\u001b[0m \u001b[0mhdl\u001b[0m\u001b[0;34m\u001b[0m\u001b[0m\n\u001b[1;32m     88\u001b[0m \u001b[0;34m\u001b[0m\u001b[0m\n",
      "\u001b[0;32m/home/ganta/mxnet/python/mxnet/base.pyc\u001b[0m in \u001b[0;36mcheck_call\u001b[0;34m(ret)\u001b[0m\n\u001b[1;32m     73\u001b[0m     \"\"\"\n\u001b[1;32m     74\u001b[0m     \u001b[0;32mif\u001b[0m \u001b[0mret\u001b[0m \u001b[0;34m!=\u001b[0m \u001b[0;36m0\u001b[0m\u001b[0;34m:\u001b[0m\u001b[0;34m\u001b[0m\u001b[0m\n\u001b[0;32m---> 75\u001b[0;31m         \u001b[0;32mraise\u001b[0m \u001b[0mMXNetError\u001b[0m\u001b[0;34m(\u001b[0m\u001b[0mpy_str\u001b[0m\u001b[0;34m(\u001b[0m\u001b[0m_LIB\u001b[0m\u001b[0;34m.\u001b[0m\u001b[0mMXGetLastError\u001b[0m\u001b[0;34m(\u001b[0m\u001b[0;34m)\u001b[0m\u001b[0;34m)\u001b[0m\u001b[0;34m)\u001b[0m\u001b[0;34m\u001b[0m\u001b[0m\n\u001b[0m\u001b[1;32m     76\u001b[0m \u001b[0;34m\u001b[0m\u001b[0m\n\u001b[1;32m     77\u001b[0m \u001b[0;32mif\u001b[0m \u001b[0msys\u001b[0m\u001b[0;34m.\u001b[0m\u001b[0mversion_info\u001b[0m\u001b[0;34m[\u001b[0m\u001b[0;36m0\u001b[0m\u001b[0;34m]\u001b[0m \u001b[0;34m<\u001b[0m \u001b[0;36m3\u001b[0m\u001b[0;34m:\u001b[0m\u001b[0;34m\u001b[0m\u001b[0m\n",
      "\u001b[0;31mMXNetError\u001b[0m: [15:10:38] src/storage/storage.cc:78: Compile with USE_CUDA=1 to enable GPU usage\n\nStack trace returned 79 entries:\n[bt] (0) /home/ganta/mxnet/python/mxnet/../../lib/libmxnet.so(+0xc63fac) [0x7fef9c7f1fac]\n[bt] (1) /home/ganta/mxnet/python/mxnet/../../lib/libmxnet.so(+0xc65917) [0x7fef9c7f3917]\n[bt] (2) /home/ganta/mxnet/python/mxnet/../../lib/libmxnet.so(_ZN5mxnet11StorageImpl5AllocEmNS_7ContextE+0x4f) [0x7fef9c7f57cf]\n[bt] (3) /home/ganta/mxnet/python/mxnet/../../lib/libmxnet.so(MXNDArrayCreateEx+0x530) [0x7fef9c83ecb0]\n[bt] (4) /usr/lib/x86_64-linux-gnu/libffi.so.6(ffi_call_unix64+0x4c) [0x7fefc86cde40]\n[bt] (5) /usr/lib/x86_64-linux-gnu/libffi.so.6(ffi_call+0x2eb) [0x7fefc86cd8ab]\n[bt] (6) /usr/lib/python2.7/lib-dynload/_ctypes.x86_64-linux-gnu.so(_ctypes_callproc+0x48f) [0x7fefc891e3df]\n[bt] (7) /usr/lib/python2.7/lib-dynload/_ctypes.x86_64-linux-gnu.so(+0x11d82) [0x7fefc8922d82]\n[bt] (8) /usr/bin/python(PyObject_Call+0x43) [0x4b0cb3]\n[bt] (9) /usr/bin/python(PyEval_EvalFrameEx+0x5faf) [0x4c9faf]\n[bt] (10) /usr/bin/python(PyEval_EvalCodeEx+0x255) [0x4c2765]\n[bt] (11) /usr/bin/python(PyEval_EvalFrameEx+0x6099) [0x4ca099]\n[bt] (12) /usr/bin/python(PyEval_EvalCodeEx+0x255) [0x4c2765]\n[bt] (13) /usr/bin/python(PyEval_EvalFrameEx+0x6099) [0x4ca099]\n[bt] (14) /usr/bin/python(PyEval_EvalCodeEx+0x255) [0x4c2765]\n[bt] (15) /usr/bin/python(PyEval_EvalFrameEx+0x6099) [0x4ca099]\n[bt] (16) /usr/bin/python(PyEval_EvalCodeEx+0x255) [0x4c2765]\n[bt] (17) /usr/bin/python() [0x4de8b8]\n[bt] (18) /usr/bin/python(PyObject_Call+0x43) [0x4b0cb3]\n[bt] (19) /usr/bin/python(PyEval_EvalFrameEx+0x2ad1) [0x4c6ad1]\n[bt] (20) /usr/bin/python(PyEval_EvalCodeEx+0x255) [0x4c2765]\n[bt] (21) /usr/bin/python(PyEval_EvalFrameEx+0x6099) [0x4ca099]\n[bt] (22) /usr/bin/python(PyEval_EvalCodeEx+0x255) [0x4c2765]\n[bt] (23) /usr/bin/python(PyEval_EvalFrameEx+0x6099) [0x4ca099]\n[bt] (24) /usr/bin/python(PyEval_EvalCodeEx+0x255) [0x4c2765]\n[bt] (25) /usr/bin/python(PyEval_EvalFrameEx+0x44db) [0x4c84db]\n[bt] (26) /usr/bin/python(PyEval_EvalCodeEx+0x255) [0x4c2765]\n[bt] (27) /usr/bin/python(PyEval_EvalFrameEx+0x6099) [0x4ca099]\n[bt] (28) /usr/bin/python(PyEval_EvalCodeEx+0x255) [0x4c2765]\n[bt] (29) /usr/bin/python(PyEval_EvalFrameEx+0x6099) [0x4ca099]\n[bt] (30) /usr/bin/python(PyEval_EvalCodeEx+0x255) [0x4c2765]\n[bt] (31) /usr/bin/python() [0x4de8b8]\n[bt] (32) /usr/bin/python(PyObject_Call+0x43) [0x4b0cb3]\n[bt] (33) /usr/bin/python(PyEval_EvalFrameEx+0x2ad1) [0x4c6ad1]\n[bt] (34) /usr/bin/python(PyEval_EvalCodeEx+0x255) [0x4c2765]\n[bt] (35) /usr/bin/python(PyEval_EvalFrameEx+0x68d1) [0x4ca8d1]\n[bt] (36) /usr/bin/python(PyEval_EvalCodeEx+0x255) [0x4c2765]\n[bt] (37) /usr/bin/python(PyEval_EvalFrameEx+0x6099) [0x4ca099]\n[bt] (38) /usr/bin/python(PyEval_EvalCodeEx+0x255) [0x4c2765]\n[bt] (39) /usr/bin/python(PyEval_EvalFrameEx+0x68d1) [0x4ca8d1]\n[bt] (40) /usr/bin/python(PyEval_EvalCodeEx+0x255) [0x4c2765]\n[bt] (41) /usr/bin/python(PyEval_EvalFrameEx+0x68d1) [0x4ca8d1]\n[bt] (42) /usr/bin/python(PyEval_EvalCodeEx+0x255) [0x4c2765]\n[bt] (43) /usr/bin/python() [0x4de8b8]\n[bt] (44) /usr/bin/python(PyObject_Call+0x43) [0x4b0cb3]\n[bt] (45) /usr/bin/python(PyEval_EvalFrameEx+0x2ad1) [0x4c6ad1]\n[bt] (46) /usr/bin/python(PyEval_EvalCodeEx+0x255) [0x4c2765]\n[bt] (47) /usr/bin/python() [0x4de8b8]\n[bt] (48) /usr/bin/python(PyObject_Call+0x43) [0x4b0cb3]\n[bt] (49) /usr/bin/python(PyEval_EvalFrameEx+0x2ad1) [0x4c6ad1]\n[bt] (50) /usr/bin/python(PyEval_EvalCodeEx+0x255) [0x4c2765]\n[bt] (51) /usr/bin/python(PyEval_EvalFrameEx+0x68d1) [0x4ca8d1]\n[bt] (52) /usr/bin/python(PyEval_EvalCodeEx+0x255) [0x4c2765]\n[bt] (53) /usr/bin/python(PyEval_EvalFrameEx+0x68d1) [0x4ca8d1]\n[bt] (54) /usr/bin/python(PyEval_EvalCodeEx+0x255) [0x4c2765]\n[bt] (55) /usr/bin/python() [0x4de8b8]\n[bt] (56) /usr/bin/python(PyObject_Call+0x43) [0x4b0cb3]\n[bt] (57) /usr/bin/python(PyEval_EvalFrameEx+0x2ad1) [0x4c6ad1]\n[bt] (58) /usr/bin/python(PyEval_EvalCodeEx+0x255) [0x4c2765]\n[bt] (59) /usr/bin/python(PyEval_EvalFrameEx+0x68d1) [0x4ca8d1]\n[bt] (60) /usr/bin/python(PyEval_EvalCodeEx+0x255) [0x4c2765]\n[bt] (61) /usr/bin/python(PyEval_EvalFrameEx+0x68d1) [0x4ca8d1]\n[bt] (62) /usr/bin/python(PyEval_EvalCodeEx+0x255) [0x4c2765]\n[bt] (63) /usr/bin/python(PyEval_EvalFrameEx+0x68d1) [0x4ca8d1]\n[bt] (64) /usr/bin/python(PyEval_EvalCodeEx+0x255) [0x4c2765]\n[bt] (65) /usr/bin/python(PyEval_EvalFrameEx+0x68d1) [0x4ca8d1]\n[bt] (66) /usr/bin/python(PyEval_EvalCodeEx+0x255) [0x4c2765]\n[bt] (67) /usr/bin/python(PyEval_EvalFrameEx+0x6099) [0x4ca099]\n[bt] (68) /usr/bin/python(PyEval_EvalCodeEx+0x255) [0x4c2765]\n[bt] (69) /usr/bin/python(PyEval_EvalFrameEx+0x44db) [0x4c84db]\n[bt] (70) /usr/bin/python(PyEval_EvalCodeEx+0x255) [0x4c2765]\n[bt] (71) /usr/bin/python(PyEval_EvalFrameEx+0x6099) [0x4ca099]\n[bt] (72) /usr/bin/python(PyEval_EvalCodeEx+0x255) [0x4c2765]\n[bt] (73) /usr/bin/python() [0x4de6fe]\n[bt] (74) /usr/bin/python(PyObject_Call+0x43) [0x4b0cb3]\n[bt] (75) /usr/bin/python() [0x521eec]\n[bt] (76) /usr/bin/python(Py_Main+0x6c8) [0x49e188]\n[bt] (77) /lib/x86_64-linux-gnu/libc.so.6(__libc_start_main+0xf0) [0x7fefca778830]\n[bt] (78) /usr/bin/python(_start+0x29) [0x49d9d9]\n"
     ]
    }
   ],
   "source": [
    "print 'Validation accuracy: %f%%' % (model.score(val_iter)*100,)"
   ]
  },
  {
   "cell_type": "code",
   "execution_count": null,
   "metadata": {
    "collapsed": true
   },
   "outputs": [],
   "source": []
  },
  {
   "cell_type": "code",
   "execution_count": null,
   "metadata": {
    "collapsed": true
   },
   "outputs": [],
   "source": []
  }
 ],
 "metadata": {
  "anaconda-cloud": {},
  "kernelspec": {
   "display_name": "Python [default]",
   "language": "python",
   "name": "python2"
  },
  "language_info": {
   "codemirror_mode": {
    "name": "ipython",
    "version": 2
   },
   "file_extension": ".py",
   "mimetype": "text/x-python",
   "name": "python",
   "nbconvert_exporter": "python",
   "pygments_lexer": "ipython2",
   "version": "2.7.12"
  }
 },
 "nbformat": 4,
 "nbformat_minor": 1
}
